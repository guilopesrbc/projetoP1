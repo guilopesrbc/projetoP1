{
 "cells": [
  {
   "cell_type": "markdown",
   "id": "0bcc9e30",
   "metadata": {},
   "source": [
    "# Análise das doses aplicadas\n"
   ]
  },
  {
   "cell_type": "markdown",
   "id": "60deb5da",
   "metadata": {},
   "source": [
    "Importação das bibliotecas as quais serão utilizadas no desenvolvimento da análise e dos dados a serem analisados.\n"
   ]
  },
  {
   "cell_type": "code",
   "execution_count": 67,
   "id": "168289cd",
   "metadata": {},
   "outputs": [
    {
     "data": {
      "text/html": [
       "<div>\n",
       "<style scoped>\n",
       "    .dataframe tbody tr th:only-of-type {\n",
       "        vertical-align: middle;\n",
       "    }\n",
       "\n",
       "    .dataframe tbody tr th {\n",
       "        vertical-align: top;\n",
       "    }\n",
       "\n",
       "    .dataframe thead th {\n",
       "        text-align: right;\n",
       "    }\n",
       "</style>\n",
       "<table border=\"1\" class=\"dataframe\">\n",
       "  <thead>\n",
       "    <tr style=\"text-align: right;\">\n",
       "      <th></th>\n",
       "      <th>cpf</th>\n",
       "      <th>nome</th>\n",
       "      <th>sexo</th>\n",
       "      <th>grupo</th>\n",
       "      <th>vacina</th>\n",
       "      <th>lote</th>\n",
       "      <th>dose</th>\n",
       "      <th>data_vacinacao</th>\n",
       "      <th>local_vacinacao</th>\n",
       "    </tr>\n",
       "  </thead>\n",
       "  <tbody>\n",
       "    <tr>\n",
       "      <th>0</th>\n",
       "      <td>***.574.544-**</td>\n",
       "      <td>AABAN VASCONCELOS ZYZZYAG</td>\n",
       "      <td>MASCULINO</td>\n",
       "      <td>TRABALHADORES INDUSTRIAIS E BANCÁRIOS</td>\n",
       "      <td>2 - CHADOX1NCOV-19 - OXFORD/ASTRAZENECA (FIOCRUZ)</td>\n",
       "      <td>219VCD270W</td>\n",
       "      <td>2.0</td>\n",
       "      <td>2021-10-19</td>\n",
       "      <td>DRIVE THRU PARQUE DE EXPOSIÇÃO</td>\n",
       "    </tr>\n",
       "    <tr>\n",
       "      <th>1</th>\n",
       "      <td>***.574.544-**</td>\n",
       "      <td>AABAN VASCONCELOS ZYZZYAG</td>\n",
       "      <td>MASCULINO</td>\n",
       "      <td>TRABALHADORES INDUSTRIAIS E BANCÁRIOS</td>\n",
       "      <td>2 - CHADOX1NCOV-19 - OXFORD/ASTRAZENECA (FIOCRUZ)</td>\n",
       "      <td>216VCD206Z</td>\n",
       "      <td>1.0</td>\n",
       "      <td>2021-07-26</td>\n",
       "      <td>DRIVE THRU PARQUE DE EXPOSIÇÃO</td>\n",
       "    </tr>\n",
       "    <tr>\n",
       "      <th>2</th>\n",
       "      <td>***.886.964-**</td>\n",
       "      <td>AAMANDA MARIA FREIRE DA SILVA</td>\n",
       "      <td>FEMININO</td>\n",
       "      <td>TRABALHADORES DA SAÚDE</td>\n",
       "      <td>1 - CORONAVAC - SINOVAC (BUTANTAN)</td>\n",
       "      <td>210043</td>\n",
       "      <td>2.0</td>\n",
       "      <td>2021-03-04</td>\n",
       "      <td>CENTRO DE VACINAÇÃO PARQUE DE EXPOSIÇÃO</td>\n",
       "    </tr>\n",
       "    <tr>\n",
       "      <th>3</th>\n",
       "      <td>***.886.964-**</td>\n",
       "      <td>AAMANDA MARIA FREIRE DA SILVA</td>\n",
       "      <td>FEMININO</td>\n",
       "      <td>TRABALHADORES DA SAÚDE</td>\n",
       "      <td>1 - CORONAVAC - SINOVAC (BUTANTAN)</td>\n",
       "      <td>210016</td>\n",
       "      <td>1.0</td>\n",
       "      <td>2021-02-11</td>\n",
       "      <td>CENTRO DE VACINAÇÃO COMPAZ MIGUEL ARRAES</td>\n",
       "    </tr>\n",
       "    <tr>\n",
       "      <th>4</th>\n",
       "      <td>***.886.964-**</td>\n",
       "      <td>AAMANDA MARIA FREIRE DA SILVA</td>\n",
       "      <td>FEMININO</td>\n",
       "      <td>TRABALHADORES DA SAÚDE</td>\n",
       "      <td>3 - COMIRNATY (PFIZER)</td>\n",
       "      <td>32010BD</td>\n",
       "      <td>3.0</td>\n",
       "      <td>2021-10-07</td>\n",
       "      <td>CENTRO DE VACINAÇÃO UNINASSAU</td>\n",
       "    </tr>\n",
       "    <tr>\n",
       "      <th>...</th>\n",
       "      <td>...</td>\n",
       "      <td>...</td>\n",
       "      <td>...</td>\n",
       "      <td>...</td>\n",
       "      <td>...</td>\n",
       "      <td>...</td>\n",
       "      <td>...</td>\n",
       "      <td>...</td>\n",
       "      <td>...</td>\n",
       "    </tr>\n",
       "    <tr>\n",
       "      <th>3407293</th>\n",
       "      <td>***.619.454-**</td>\n",
       "      <td>NECIRA FERREIRA DE SANTANA</td>\n",
       "      <td>FEMININO</td>\n",
       "      <td>IDOSOS</td>\n",
       "      <td>3 - COMIRNATY (PFIZER)</td>\n",
       "      <td>FF8848</td>\n",
       "      <td>3.0</td>\n",
       "      <td>2021-09-29</td>\n",
       "      <td>DRIVE THRU - BIG BOMPREÇO - BOA VIAGEM</td>\n",
       "    </tr>\n",
       "    <tr>\n",
       "      <th>3407294</th>\n",
       "      <td>***.705.064-**</td>\n",
       "      <td>SEVERINO MANOEL DE SANTANA</td>\n",
       "      <td>MASCULINO</td>\n",
       "      <td>IDOSOS</td>\n",
       "      <td>1 - CORONAVAC - SINOVAC (BUTANTAN)</td>\n",
       "      <td>210052A</td>\n",
       "      <td>2.0</td>\n",
       "      <td>2021-03-11</td>\n",
       "      <td>DRIVE THRU GERALDÃO</td>\n",
       "    </tr>\n",
       "    <tr>\n",
       "      <th>3407295</th>\n",
       "      <td>***.705.064-**</td>\n",
       "      <td>SEVERINO MANOEL DE SANTANA</td>\n",
       "      <td>MASCULINO</td>\n",
       "      <td>IDOSOS</td>\n",
       "      <td>3 - COMIRNATY (PFIZER)</td>\n",
       "      <td>FF8848</td>\n",
       "      <td>3.0</td>\n",
       "      <td>2021-09-29</td>\n",
       "      <td>DRIVE THRU - BIG BOMPREÇO - BOA VIAGEM</td>\n",
       "    </tr>\n",
       "    <tr>\n",
       "      <th>3407296</th>\n",
       "      <td>***.705.064-**</td>\n",
       "      <td>SEVERINO MANOEL DE SANTANA</td>\n",
       "      <td>MASCULINO</td>\n",
       "      <td>IDOSOS</td>\n",
       "      <td>1 - CORONAVAC - SINOVAC (BUTANTAN)</td>\n",
       "      <td>210016</td>\n",
       "      <td>1.0</td>\n",
       "      <td>2021-02-17</td>\n",
       "      <td>DRIVE THRU GERALDÃO</td>\n",
       "    </tr>\n",
       "    <tr>\n",
       "      <th>3407297</th>\n",
       "      <td>NaN</td>\n",
       "      <td>NaN</td>\n",
       "      <td>NaN</td>\n",
       "      <td>NaN</td>\n",
       "      <td>NaN</td>\n",
       "      <td>NaN</td>\n",
       "      <td>NaN</td>\n",
       "      <td>NaN</td>\n",
       "      <td>NaN</td>\n",
       "    </tr>\n",
       "  </tbody>\n",
       "</table>\n",
       "<p>3407298 rows × 9 columns</p>\n",
       "</div>"
      ],
      "text/plain": [
       "                    cpf                           nome       sexo  \\\n",
       "0        ***.574.544-**      AABAN VASCONCELOS ZYZZYAG  MASCULINO   \n",
       "1        ***.574.544-**      AABAN VASCONCELOS ZYZZYAG  MASCULINO   \n",
       "2        ***.886.964-**  AAMANDA MARIA FREIRE DA SILVA   FEMININO   \n",
       "3        ***.886.964-**  AAMANDA MARIA FREIRE DA SILVA   FEMININO   \n",
       "4        ***.886.964-**  AAMANDA MARIA FREIRE DA SILVA   FEMININO   \n",
       "...                 ...                            ...        ...   \n",
       "3407293  ***.619.454-**     NECIRA FERREIRA DE SANTANA   FEMININO   \n",
       "3407294  ***.705.064-**     SEVERINO MANOEL DE SANTANA  MASCULINO   \n",
       "3407295  ***.705.064-**     SEVERINO MANOEL DE SANTANA  MASCULINO   \n",
       "3407296  ***.705.064-**     SEVERINO MANOEL DE SANTANA  MASCULINO   \n",
       "3407297             NaN                            NaN        NaN   \n",
       "\n",
       "                                         grupo  \\\n",
       "0        TRABALHADORES INDUSTRIAIS E BANCÁRIOS   \n",
       "1        TRABALHADORES INDUSTRIAIS E BANCÁRIOS   \n",
       "2                       TRABALHADORES DA SAÚDE   \n",
       "3                       TRABALHADORES DA SAÚDE   \n",
       "4                       TRABALHADORES DA SAÚDE   \n",
       "...                                        ...   \n",
       "3407293                                 IDOSOS   \n",
       "3407294                                 IDOSOS   \n",
       "3407295                                 IDOSOS   \n",
       "3407296                                 IDOSOS   \n",
       "3407297                                    NaN   \n",
       "\n",
       "                                                    vacina         lote  dose  \\\n",
       "0        2 - CHADOX1NCOV-19 - OXFORD/ASTRAZENECA (FIOCRUZ)  219VCD270W    2.0   \n",
       "1        2 - CHADOX1NCOV-19 - OXFORD/ASTRAZENECA (FIOCRUZ)   216VCD206Z   1.0   \n",
       "2                       1 - CORONAVAC - SINOVAC (BUTANTAN)       210043   2.0   \n",
       "3                       1 - CORONAVAC - SINOVAC (BUTANTAN)       210016   1.0   \n",
       "4                                   3 - COMIRNATY (PFIZER)      32010BD   3.0   \n",
       "...                                                    ...          ...   ...   \n",
       "3407293                             3 - COMIRNATY (PFIZER)       FF8848   3.0   \n",
       "3407294                 1 - CORONAVAC - SINOVAC (BUTANTAN)      210052A   2.0   \n",
       "3407295                             3 - COMIRNATY (PFIZER)       FF8848   3.0   \n",
       "3407296                 1 - CORONAVAC - SINOVAC (BUTANTAN)       210016   1.0   \n",
       "3407297                                                NaN          NaN   NaN   \n",
       "\n",
       "        data_vacinacao                           local_vacinacao  \n",
       "0           2021-10-19            DRIVE THRU PARQUE DE EXPOSIÇÃO  \n",
       "1           2021-07-26            DRIVE THRU PARQUE DE EXPOSIÇÃO  \n",
       "2           2021-03-04   CENTRO DE VACINAÇÃO PARQUE DE EXPOSIÇÃO  \n",
       "3           2021-02-11  CENTRO DE VACINAÇÃO COMPAZ MIGUEL ARRAES  \n",
       "4           2021-10-07             CENTRO DE VACINAÇÃO UNINASSAU  \n",
       "...                ...                                       ...  \n",
       "3407293     2021-09-29    DRIVE THRU - BIG BOMPREÇO - BOA VIAGEM  \n",
       "3407294     2021-03-11                       DRIVE THRU GERALDÃO  \n",
       "3407295     2021-09-29    DRIVE THRU - BIG BOMPREÇO - BOA VIAGEM  \n",
       "3407296     2021-02-17                       DRIVE THRU GERALDÃO  \n",
       "3407297            NaN                                       NaN  \n",
       "\n",
       "[3407298 rows x 9 columns]"
      ]
     },
     "execution_count": 67,
     "metadata": {},
     "output_type": "execute_result"
    }
   ],
   "source": [
    "import pandas as pd\n",
    "import matplotlib.pyplot as plt\n",
    "import seaborn as sns\n",
    "\n",
    "\n",
    "data = pd.read_csv('vacinados.csv',sep=';',encoding ='UTF-8',header = 0)\n",
    "data"
   ]
  },
  {
   "cell_type": "markdown",
   "id": "9f7907bf",
   "metadata": {},
   "source": [
    "Agora realizaremos a retirada das colunas de dados que não serão necessárias para a análise em questão, a fim de facilitar a visualização do dataframe, e removeremos também os valores ausentes."
   ]
  },
  {
   "cell_type": "code",
   "execution_count": 68,
   "id": "16506f39",
   "metadata": {},
   "outputs": [
    {
     "data": {
      "text/html": [
       "<div>\n",
       "<style scoped>\n",
       "    .dataframe tbody tr th:only-of-type {\n",
       "        vertical-align: middle;\n",
       "    }\n",
       "\n",
       "    .dataframe tbody tr th {\n",
       "        vertical-align: top;\n",
       "    }\n",
       "\n",
       "    .dataframe thead th {\n",
       "        text-align: right;\n",
       "    }\n",
       "</style>\n",
       "<table border=\"1\" class=\"dataframe\">\n",
       "  <thead>\n",
       "    <tr style=\"text-align: right;\">\n",
       "      <th></th>\n",
       "      <th>nome</th>\n",
       "      <th>dose</th>\n",
       "    </tr>\n",
       "  </thead>\n",
       "  <tbody>\n",
       "    <tr>\n",
       "      <th>0</th>\n",
       "      <td>AABAN VASCONCELOS ZYZZYAG</td>\n",
       "      <td>2.0</td>\n",
       "    </tr>\n",
       "    <tr>\n",
       "      <th>1</th>\n",
       "      <td>AABAN VASCONCELOS ZYZZYAG</td>\n",
       "      <td>1.0</td>\n",
       "    </tr>\n",
       "    <tr>\n",
       "      <th>2</th>\n",
       "      <td>AAMANDA MARIA FREIRE DA SILVA</td>\n",
       "      <td>2.0</td>\n",
       "    </tr>\n",
       "    <tr>\n",
       "      <th>3</th>\n",
       "      <td>AAMANDA MARIA FREIRE DA SILVA</td>\n",
       "      <td>1.0</td>\n",
       "    </tr>\n",
       "    <tr>\n",
       "      <th>4</th>\n",
       "      <td>AAMANDA MARIA FREIRE DA SILVA</td>\n",
       "      <td>3.0</td>\n",
       "    </tr>\n",
       "  </tbody>\n",
       "</table>\n",
       "</div>"
      ],
      "text/plain": [
       "                            nome  dose\n",
       "0      AABAN VASCONCELOS ZYZZYAG   2.0\n",
       "1      AABAN VASCONCELOS ZYZZYAG   1.0\n",
       "2  AAMANDA MARIA FREIRE DA SILVA   2.0\n",
       "3  AAMANDA MARIA FREIRE DA SILVA   1.0\n",
       "4  AAMANDA MARIA FREIRE DA SILVA   3.0"
      ]
     },
     "execution_count": 68,
     "metadata": {},
     "output_type": "execute_result"
    }
   ],
   "source": [
    "data = data.drop(columns=['cpf','sexo','grupo','vacina','lote','data_vacinacao','local_vacinacao',])\n",
    "data.head()\n"
   ]
  },
  {
   "cell_type": "code",
   "execution_count": 69,
   "id": "76227df9",
   "metadata": {},
   "outputs": [],
   "source": [
    "dt = data.dropna()"
   ]
  },
  {
   "cell_type": "markdown",
   "id": "549d2054",
   "metadata": {},
   "source": [
    "# Análise da quantidade total de doses aplicadas"
   ]
  },
  {
   "cell_type": "code",
   "execution_count": 70,
   "id": "2cfb412b",
   "metadata": {},
   "outputs": [
    {
     "data": {
      "image/png": "[encoded data removed]",
      "text/plain": [
       "<Figure size 720x540 with 1 Axes>"
      ]
     },
     "metadata": {
      "needs_background": "light"
     },
     "output_type": "display_data"
    }
   ],
   "source": [
    "umaDose = dt.loc[data['dose'] == 1]\n",
    "qtdRecebUmaDose = umaDose.count()[0]\n",
    "duasDoses = dt.loc[data['dose'] == 2]\n",
    "qtdRecebDuasDoses = duasDoses.count()[0]\n",
    "tresDoses = dt.loc[data['dose'] == 3]\n",
    "qtdRecebTresDoses = tresDoses.count()[0]\n",
    "quatroDoses = dt.loc[data['dose'] == 4]\n",
    "qtdRecebQuatroDoses = quatroDoses.count()[0]\n",
    "\n",
    "labels = ['Primeira dose', 'Segunda dose', 'Terceira dose', 'Quarta dose']\n",
    "values = [qtdRecebUmaDose,qtdRecebDuasDoses, qtdRecebTresDoses,qtdRecebQuatroDoses ]\n",
    "\n",
    "fig, ax = plt.subplots(figsize=(10, 7.5))\n",
    "sns.pointplot(data=data, x=labels, y=values)\n",
    "ax.set_title('Cobertura vacinal (em milhões)')\n",
    "plt.show()"
   ]
  },
  {
   "cell_type": "markdown",
   "id": "4a837737",
   "metadata": {},
   "source": [
    "A partir da visualização e análise do gráfico gerado é possível notar um decaimento na cobertura vacinal conforme as sucessivas doses foram surgindo. Tal dado pode ser considerado preocupante, visto que o normal seria a linha se manter \"reta\" e estável o que significaria uma alta adesão popular às aplicações das doses, algo que não aconteceu na prática. "
   ]
  },
  {
   "cell_type": "markdown",
   "id": "064ec3b4",
   "metadata": {},
   "source": [
    "# Análise da quantidade de doses aplicadas separadamente (1°- 4°)\n"
   ]
  },
  {
   "cell_type": "markdown",
   "id": "895a0976",
   "metadata": {},
   "source": [
    "Primeiro, será necessário fazer a ordenação dos nomes dos vacinados e do número das doses aplicadas nos mesmos. Ao fazer isso é possível perceber uma repetição nos nomes, visto que o paciente pode ter tomado mais de uma dose. Porém, para essa análise não queremos a repetição de dados, uma vez que desejamos apenas a última dose tomada pelo paciente."
   ]
  },
  {
   "cell_type": "code",
   "execution_count": 71,
   "id": "1151a753",
   "metadata": {},
   "outputs": [
    {
     "data": {
      "text/html": [
       "<div>\n",
       "<style scoped>\n",
       "    .dataframe tbody tr th:only-of-type {\n",
       "        vertical-align: middle;\n",
       "    }\n",
       "\n",
       "    .dataframe tbody tr th {\n",
       "        vertical-align: top;\n",
       "    }\n",
       "\n",
       "    .dataframe thead th {\n",
       "        text-align: right;\n",
       "    }\n",
       "</style>\n",
       "<table border=\"1\" class=\"dataframe\">\n",
       "  <thead>\n",
       "    <tr style=\"text-align: right;\">\n",
       "      <th></th>\n",
       "      <th>nome</th>\n",
       "      <th>dose</th>\n",
       "    </tr>\n",
       "  </thead>\n",
       "  <tbody>\n",
       "    <tr>\n",
       "      <th>1839873</th>\n",
       "      <td>?ENI FERREIRA BARBOSA</td>\n",
       "      <td>3.0</td>\n",
       "    </tr>\n",
       "    <tr>\n",
       "      <th>1839874</th>\n",
       "      <td>?ENI FERREIRA BARBOSA</td>\n",
       "      <td>2.0</td>\n",
       "    </tr>\n",
       "    <tr>\n",
       "      <th>1839875</th>\n",
       "      <td>?ENI FERREIRA BARBOSA</td>\n",
       "      <td>1.0</td>\n",
       "    </tr>\n",
       "    <tr>\n",
       "      <th>1351764</th>\n",
       "      <td>?VO ANTONIO LIBERATO DA SILVA</td>\n",
       "      <td>2.0</td>\n",
       "    </tr>\n",
       "    <tr>\n",
       "      <th>1351763</th>\n",
       "      <td>?VO ANTONIO LIBERATO DA SILVA</td>\n",
       "      <td>1.0</td>\n",
       "    </tr>\n",
       "    <tr>\n",
       "      <th>...</th>\n",
       "      <td>...</td>\n",
       "      <td>...</td>\n",
       "    </tr>\n",
       "    <tr>\n",
       "      <th>3235450</th>\n",
       "      <td>ÚRSULA MORAES MARINHO DE ALBUQUERQUE</td>\n",
       "      <td>1.0</td>\n",
       "    </tr>\n",
       "    <tr>\n",
       "      <th>3235456</th>\n",
       "      <td>ÚRSULA MYRTES NASCIMENTO GOMES</td>\n",
       "      <td>3.0</td>\n",
       "    </tr>\n",
       "    <tr>\n",
       "      <th>3235455</th>\n",
       "      <td>ÚRSULA MYRTES NASCIMENTO GOMES</td>\n",
       "      <td>2.0</td>\n",
       "    </tr>\n",
       "    <tr>\n",
       "      <th>3235454</th>\n",
       "      <td>ÚRSULA MYRTES NASCIMENTO GOMES</td>\n",
       "      <td>1.0</td>\n",
       "    </tr>\n",
       "    <tr>\n",
       "      <th>3235492</th>\n",
       "      <td>ÚRSULLA ROBERTA MACHADO BEZERRA</td>\n",
       "      <td>3.0</td>\n",
       "    </tr>\n",
       "  </tbody>\n",
       "</table>\n",
       "<p>3407297 rows × 2 columns</p>\n",
       "</div>"
      ],
      "text/plain": [
       "                                         nome  dose\n",
       "1839873                 ?ENI FERREIRA BARBOSA   3.0\n",
       "1839874                 ?ENI FERREIRA BARBOSA   2.0\n",
       "1839875                 ?ENI FERREIRA BARBOSA   1.0\n",
       "1351764         ?VO ANTONIO LIBERATO DA SILVA   2.0\n",
       "1351763         ?VO ANTONIO LIBERATO DA SILVA   1.0\n",
       "...                                       ...   ...\n",
       "3235450  ÚRSULA MORAES MARINHO DE ALBUQUERQUE   1.0\n",
       "3235456        ÚRSULA MYRTES NASCIMENTO GOMES   3.0\n",
       "3235455        ÚRSULA MYRTES NASCIMENTO GOMES   2.0\n",
       "3235454        ÚRSULA MYRTES NASCIMENTO GOMES   1.0\n",
       "3235492       ÚRSULLA ROBERTA MACHADO BEZERRA   3.0\n",
       "\n",
       "[3407297 rows x 2 columns]"
      ]
     },
     "execution_count": 71,
     "metadata": {},
     "output_type": "execute_result"
    }
   ],
   "source": [
    "order = dt.sort_values(by=['nome'])\n",
    "order"
   ]
  },
  {
   "cell_type": "markdown",
   "id": "2eac7aa7",
   "metadata": {},
   "source": [
    "Agora realizaremos a filtragem dos dados a fim de obtermos apenas o necessário."
   ]
  },
  {
   "cell_type": "code",
   "execution_count": 72,
   "id": "2346ec1f",
   "metadata": {},
   "outputs": [],
   "source": [
    "filtered = order.drop_duplicates(subset='nome', keep='last')\n"
   ]
  },
  {
   "cell_type": "markdown",
   "id": "1d9e72bd",
   "metadata": {},
   "source": [
    "Separação e organização dos dados."
   ]
  },
  {
   "cell_type": "code",
   "execution_count": 73,
   "id": "de886c3d",
   "metadata": {},
   "outputs": [],
   "source": [
    "uma_dose = filtered['dose'] == 1\n",
    "duas_doses = filtered['dose'] == 2\n",
    "tres_doses = filtered['dose'] == 3\n",
    "quatro_doses = filtered['dose'] == 4"
   ]
  },
  {
   "cell_type": "markdown",
   "id": "0223f649",
   "metadata": {},
   "source": [
    "# Visualização dos Dados"
   ]
  },
  {
   "cell_type": "markdown",
   "id": "a36c2371",
   "metadata": {},
   "source": [
    "A visualização dos dados se dará em um gráfico circular, mais conhecido com \"pizza\", pois se torna mais fácil a observação e separação das informações."
   ]
  },
  {
   "cell_type": "code",
   "execution_count": 66,
   "id": "2d28f4ca",
   "metadata": {
    "scrolled": false
   },
   "outputs": [
    {
     "data": {
      "image/png": "[encoded data removed]",
      "text/plain": [
       "<Figure size 432x288 with 1 Axes>"
      ]
     },
     "metadata": {},
     "output_type": "display_data"
    }
   ],
   "source": [
    "qtd_uma = filtered[uma_dose].count()[0]\n",
    "qtd_duas = filtered[duas_doses].count()[0]\n",
    "qtd_tres = filtered[tres_doses].count()[0]\n",
    "qtd_quatro = filtered[quatro_doses].count()[0]\n",
    "\n",
    "valores = [qtd_uma, qtd_duas, qtd_tres, qtd_quatro]\n",
    "rotulos = ['Primeira', 'Segunda', 'Terceira', 'Quarta']\n",
    "\n",
    "fig1, ax1 = plt.subplots()\n",
    "plt.rcParams['xtick.labelsize'] = 12\n",
    "ax1.pie(x=valores, labels=rotulos, autopct='%1.1f%%', shadow=False, startangle=90, colors = ['steelblue', 'silver','red', 'pink'], explode=(0.05, 0.05, 0.05, 0.05))\n",
    "plt.title('Separação por doses')\n",
    "ax1.axis('equal')\n",
    "plt.show()"
   ]
  },
  {
   "cell_type": "markdown",
   "id": "6810e9e6",
   "metadata": {},
   "source": [
    "# Conclusão"
   ]
  },
  {
   "cell_type": "markdown",
   "id": "b2dedf8b",
   "metadata": {},
   "source": [
    "Conclui-se que o número de doses da vacina contra a Covid-19 aplicadas durante a pandemia, no município de Recife-PE, se mostrou decadente. Isso se deu, possivelmente, por causa da retração da doença após as aplicações das primeiras e segundas doses, que fez com que os cidadãos julgassem não ser necessária a aplicação de uma terceira ou quarta dose. "
   ]
  }
 ],
 "metadata": {
  "kernelspec": {
   "display_name": "Python 3.10.7 64-bit",
   "language": "python",
   "name": "python3"
  },
  "language_info": {
   "codemirror_mode": {
    "name": "ipython",
    "version": 3
   },
   "file_extension": ".py",
   "mimetype": "text/x-python",
   "name": "python",
   "nbconvert_exporter": "python",
   "pygments_lexer": "ipython3",
   "version": "3.10.7"
  },
  "vscode": {
   "interpreter": {
    "hash": "0cddd0a501f89d55d4019d72f2ce3fb04de91833975e49514afba02942b7aac2"
   }
  }
 },
 "nbformat": 4,
 "nbformat_minor": 5
}
