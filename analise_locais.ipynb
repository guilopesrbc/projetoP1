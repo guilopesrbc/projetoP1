{
 "cells": [
  {
   "cell_type": "markdown",
   "id": "290d96d4",
   "metadata": {},
   "source": [
    "# Análise dos Microdados da Vacina do Covid-19"
   ]
  },
  {
   "cell_type": "markdown",
   "id": "2a579be5",
   "metadata": {},
   "source": [
    "Importação das bibliotecas as quais serão utilizadas no desenvolvimento da análise e dos dados a serem analisados"
   ]
  },
  {
   "cell_type": "code",
   "execution_count": 52,
   "id": "94e80af8",
   "metadata": {},
   "outputs": [
    {
     "data": {
      "text/html": [
       "<div>\n",
       "<style scoped>\n",
       "    .dataframe tbody tr th:only-of-type {\n",
       "        vertical-align: middle;\n",
       "    }\n",
       "\n",
       "    .dataframe tbody tr th {\n",
       "        vertical-align: top;\n",
       "    }\n",
       "\n",
       "    .dataframe thead th {\n",
       "        text-align: right;\n",
       "    }\n",
       "</style>\n",
       "<table border=\"1\" class=\"dataframe\">\n",
       "  <thead>\n",
       "    <tr style=\"text-align: right;\">\n",
       "      <th></th>\n",
       "      <th>cpf</th>\n",
       "      <th>nome</th>\n",
       "      <th>sexo</th>\n",
       "      <th>grupo</th>\n",
       "      <th>vacina</th>\n",
       "      <th>lote</th>\n",
       "      <th>dose</th>\n",
       "      <th>data_vacinacao</th>\n",
       "      <th>local_vacinacao</th>\n",
       "    </tr>\n",
       "  </thead>\n",
       "  <tbody>\n",
       "    <tr>\n",
       "      <th>0</th>\n",
       "      <td>***.574.544-**</td>\n",
       "      <td>AABAN VASCONCELOS ZYZZYAG</td>\n",
       "      <td>MASCULINO</td>\n",
       "      <td>TRABALHADORES INDUSTRIAIS E BANCÁRIOS</td>\n",
       "      <td>2 - CHADOX1NCOV-19 - OXFORD/ASTRAZENECA (FIOCRUZ)</td>\n",
       "      <td>219VCD270W</td>\n",
       "      <td>2.0</td>\n",
       "      <td>2021-10-19</td>\n",
       "      <td>DRIVE THRU PARQUE DE EXPOSIÇÃO</td>\n",
       "    </tr>\n",
       "    <tr>\n",
       "      <th>1</th>\n",
       "      <td>***.574.544-**</td>\n",
       "      <td>AABAN VASCONCELOS ZYZZYAG</td>\n",
       "      <td>MASCULINO</td>\n",
       "      <td>TRABALHADORES INDUSTRIAIS E BANCÁRIOS</td>\n",
       "      <td>2 - CHADOX1NCOV-19 - OXFORD/ASTRAZENECA (FIOCRUZ)</td>\n",
       "      <td>216VCD206Z</td>\n",
       "      <td>1.0</td>\n",
       "      <td>2021-07-26</td>\n",
       "      <td>DRIVE THRU PARQUE DE EXPOSIÇÃO</td>\n",
       "    </tr>\n",
       "    <tr>\n",
       "      <th>2</th>\n",
       "      <td>***.886.964-**</td>\n",
       "      <td>AAMANDA MARIA FREIRE DA SILVA</td>\n",
       "      <td>FEMININO</td>\n",
       "      <td>TRABALHADORES DA SAÚDE</td>\n",
       "      <td>1 - CORONAVAC - SINOVAC (BUTANTAN)</td>\n",
       "      <td>210043</td>\n",
       "      <td>2.0</td>\n",
       "      <td>2021-03-04</td>\n",
       "      <td>CENTRO DE VACINAÇÃO PARQUE DE EXPOSIÇÃO</td>\n",
       "    </tr>\n",
       "    <tr>\n",
       "      <th>3</th>\n",
       "      <td>***.886.964-**</td>\n",
       "      <td>AAMANDA MARIA FREIRE DA SILVA</td>\n",
       "      <td>FEMININO</td>\n",
       "      <td>TRABALHADORES DA SAÚDE</td>\n",
       "      <td>1 - CORONAVAC - SINOVAC (BUTANTAN)</td>\n",
       "      <td>210016</td>\n",
       "      <td>1.0</td>\n",
       "      <td>2021-02-11</td>\n",
       "      <td>CENTRO DE VACINAÇÃO COMPAZ MIGUEL ARRAES</td>\n",
       "    </tr>\n",
       "    <tr>\n",
       "      <th>4</th>\n",
       "      <td>***.886.964-**</td>\n",
       "      <td>AAMANDA MARIA FREIRE DA SILVA</td>\n",
       "      <td>FEMININO</td>\n",
       "      <td>TRABALHADORES DA SAÚDE</td>\n",
       "      <td>3 - COMIRNATY (PFIZER)</td>\n",
       "      <td>32010BD</td>\n",
       "      <td>3.0</td>\n",
       "      <td>2021-10-07</td>\n",
       "      <td>CENTRO DE VACINAÇÃO UNINASSAU</td>\n",
       "    </tr>\n",
       "    <tr>\n",
       "      <th>...</th>\n",
       "      <td>...</td>\n",
       "      <td>...</td>\n",
       "      <td>...</td>\n",
       "      <td>...</td>\n",
       "      <td>...</td>\n",
       "      <td>...</td>\n",
       "      <td>...</td>\n",
       "      <td>...</td>\n",
       "      <td>...</td>\n",
       "    </tr>\n",
       "    <tr>\n",
       "      <th>3407293</th>\n",
       "      <td>***.619.454-**</td>\n",
       "      <td>NECIRA FERREIRA DE SANTANA</td>\n",
       "      <td>FEMININO</td>\n",
       "      <td>IDOSOS</td>\n",
       "      <td>3 - COMIRNATY (PFIZER)</td>\n",
       "      <td>FF8848</td>\n",
       "      <td>3.0</td>\n",
       "      <td>2021-09-29</td>\n",
       "      <td>DRIVE THRU - BIG BOMPREÇO - BOA VIAGEM</td>\n",
       "    </tr>\n",
       "    <tr>\n",
       "      <th>3407294</th>\n",
       "      <td>***.705.064-**</td>\n",
       "      <td>SEVERINO MANOEL DE SANTANA</td>\n",
       "      <td>MASCULINO</td>\n",
       "      <td>IDOSOS</td>\n",
       "      <td>1 - CORONAVAC - SINOVAC (BUTANTAN)</td>\n",
       "      <td>210052A</td>\n",
       "      <td>2.0</td>\n",
       "      <td>2021-03-11</td>\n",
       "      <td>DRIVE THRU GERALDÃO</td>\n",
       "    </tr>\n",
       "    <tr>\n",
       "      <th>3407295</th>\n",
       "      <td>***.705.064-**</td>\n",
       "      <td>SEVERINO MANOEL DE SANTANA</td>\n",
       "      <td>MASCULINO</td>\n",
       "      <td>IDOSOS</td>\n",
       "      <td>3 - COMIRNATY (PFIZER)</td>\n",
       "      <td>FF8848</td>\n",
       "      <td>3.0</td>\n",
       "      <td>2021-09-29</td>\n",
       "      <td>DRIVE THRU - BIG BOMPREÇO - BOA VIAGEM</td>\n",
       "    </tr>\n",
       "    <tr>\n",
       "      <th>3407296</th>\n",
       "      <td>***.705.064-**</td>\n",
       "      <td>SEVERINO MANOEL DE SANTANA</td>\n",
       "      <td>MASCULINO</td>\n",
       "      <td>IDOSOS</td>\n",
       "      <td>1 - CORONAVAC - SINOVAC (BUTANTAN)</td>\n",
       "      <td>210016</td>\n",
       "      <td>1.0</td>\n",
       "      <td>2021-02-17</td>\n",
       "      <td>DRIVE THRU GERALDÃO</td>\n",
       "    </tr>\n",
       "    <tr>\n",
       "      <th>3407297</th>\n",
       "      <td>NaN</td>\n",
       "      <td>NaN</td>\n",
       "      <td>NaN</td>\n",
       "      <td>NaN</td>\n",
       "      <td>NaN</td>\n",
       "      <td>NaN</td>\n",
       "      <td>NaN</td>\n",
       "      <td>NaN</td>\n",
       "      <td>NaN</td>\n",
       "    </tr>\n",
       "  </tbody>\n",
       "</table>\n",
       "<p>3407298 rows × 9 columns</p>\n",
       "</div>"
      ],
      "text/plain": [
       "                    cpf                           nome       sexo  \\\n",
       "0        ***.574.544-**      AABAN VASCONCELOS ZYZZYAG  MASCULINO   \n",
       "1        ***.574.544-**      AABAN VASCONCELOS ZYZZYAG  MASCULINO   \n",
       "2        ***.886.964-**  AAMANDA MARIA FREIRE DA SILVA   FEMININO   \n",
       "3        ***.886.964-**  AAMANDA MARIA FREIRE DA SILVA   FEMININO   \n",
       "4        ***.886.964-**  AAMANDA MARIA FREIRE DA SILVA   FEMININO   \n",
       "...                 ...                            ...        ...   \n",
       "3407293  ***.619.454-**     NECIRA FERREIRA DE SANTANA   FEMININO   \n",
       "3407294  ***.705.064-**     SEVERINO MANOEL DE SANTANA  MASCULINO   \n",
       "3407295  ***.705.064-**     SEVERINO MANOEL DE SANTANA  MASCULINO   \n",
       "3407296  ***.705.064-**     SEVERINO MANOEL DE SANTANA  MASCULINO   \n",
       "3407297             NaN                            NaN        NaN   \n",
       "\n",
       "                                         grupo  \\\n",
       "0        TRABALHADORES INDUSTRIAIS E BANCÁRIOS   \n",
       "1        TRABALHADORES INDUSTRIAIS E BANCÁRIOS   \n",
       "2                       TRABALHADORES DA SAÚDE   \n",
       "3                       TRABALHADORES DA SAÚDE   \n",
       "4                       TRABALHADORES DA SAÚDE   \n",
       "...                                        ...   \n",
       "3407293                                 IDOSOS   \n",
       "3407294                                 IDOSOS   \n",
       "3407295                                 IDOSOS   \n",
       "3407296                                 IDOSOS   \n",
       "3407297                                    NaN   \n",
       "\n",
       "                                                    vacina         lote  dose  \\\n",
       "0        2 - CHADOX1NCOV-19 - OXFORD/ASTRAZENECA (FIOCRUZ)  219VCD270W    2.0   \n",
       "1        2 - CHADOX1NCOV-19 - OXFORD/ASTRAZENECA (FIOCRUZ)   216VCD206Z   1.0   \n",
       "2                       1 - CORONAVAC - SINOVAC (BUTANTAN)       210043   2.0   \n",
       "3                       1 - CORONAVAC - SINOVAC (BUTANTAN)       210016   1.0   \n",
       "4                                   3 - COMIRNATY (PFIZER)      32010BD   3.0   \n",
       "...                                                    ...          ...   ...   \n",
       "3407293                             3 - COMIRNATY (PFIZER)       FF8848   3.0   \n",
       "3407294                 1 - CORONAVAC - SINOVAC (BUTANTAN)      210052A   2.0   \n",
       "3407295                             3 - COMIRNATY (PFIZER)       FF8848   3.0   \n",
       "3407296                 1 - CORONAVAC - SINOVAC (BUTANTAN)       210016   1.0   \n",
       "3407297                                                NaN          NaN   NaN   \n",
       "\n",
       "        data_vacinacao                           local_vacinacao  \n",
       "0           2021-10-19            DRIVE THRU PARQUE DE EXPOSIÇÃO  \n",
       "1           2021-07-26            DRIVE THRU PARQUE DE EXPOSIÇÃO  \n",
       "2           2021-03-04   CENTRO DE VACINAÇÃO PARQUE DE EXPOSIÇÃO  \n",
       "3           2021-02-11  CENTRO DE VACINAÇÃO COMPAZ MIGUEL ARRAES  \n",
       "4           2021-10-07             CENTRO DE VACINAÇÃO UNINASSAU  \n",
       "...                ...                                       ...  \n",
       "3407293     2021-09-29    DRIVE THRU - BIG BOMPREÇO - BOA VIAGEM  \n",
       "3407294     2021-03-11                       DRIVE THRU GERALDÃO  \n",
       "3407295     2021-09-29    DRIVE THRU - BIG BOMPREÇO - BOA VIAGEM  \n",
       "3407296     2021-02-17                       DRIVE THRU GERALDÃO  \n",
       "3407297            NaN                                       NaN  \n",
       "\n",
       "[3407298 rows x 9 columns]"
      ]
     },
     "execution_count": 52,
     "metadata": {},
     "output_type": "execute_result"
    }
   ],
   "source": [
    "import pandas as pd\n",
    "import matplotlib.pyplot as plt\n",
    "import numpy as np\n",
    "\n",
    "#para pegar a os microdados das vacinas aplicadas \n",
    "microdadosVacina = pd.read_csv(\"vacinados.csv\", sep=\";\", encoding='utf-8')\n",
    "microdadosVacina"
   ]
  },
  {
   "cell_type": "markdown",
   "id": "2aebc690",
   "metadata": {},
   "source": [
    "Agora realizaremos a retirada das colunas de dados que não serão necessárias para a análise em questão, a fim de facilitar a visualização do dataframe, e removeremos também os valores ausentes."
   ]
  },
  {
   "cell_type": "code",
   "execution_count": 53,
   "id": "e4547368",
   "metadata": {},
   "outputs": [
    {
     "data": {
      "text/html": [
       "<div>\n",
       "<style scoped>\n",
       "    .dataframe tbody tr th:only-of-type {\n",
       "        vertical-align: middle;\n",
       "    }\n",
       "\n",
       "    .dataframe tbody tr th {\n",
       "        vertical-align: top;\n",
       "    }\n",
       "\n",
       "    .dataframe thead th {\n",
       "        text-align: right;\n",
       "    }\n",
       "</style>\n",
       "<table border=\"1\" class=\"dataframe\">\n",
       "  <thead>\n",
       "    <tr style=\"text-align: right;\">\n",
       "      <th></th>\n",
       "      <th>dose</th>\n",
       "      <th>local_vacinacao</th>\n",
       "    </tr>\n",
       "  </thead>\n",
       "  <tbody>\n",
       "    <tr>\n",
       "      <th>0</th>\n",
       "      <td>2.0</td>\n",
       "      <td>DRIVE THRU PARQUE DE EXPOSIÇÃO</td>\n",
       "    </tr>\n",
       "    <tr>\n",
       "      <th>1</th>\n",
       "      <td>1.0</td>\n",
       "      <td>DRIVE THRU PARQUE DE EXPOSIÇÃO</td>\n",
       "    </tr>\n",
       "    <tr>\n",
       "      <th>2</th>\n",
       "      <td>2.0</td>\n",
       "      <td>CENTRO DE VACINAÇÃO PARQUE DE EXPOSIÇÃO</td>\n",
       "    </tr>\n",
       "    <tr>\n",
       "      <th>3</th>\n",
       "      <td>1.0</td>\n",
       "      <td>CENTRO DE VACINAÇÃO COMPAZ MIGUEL ARRAES</td>\n",
       "    </tr>\n",
       "    <tr>\n",
       "      <th>4</th>\n",
       "      <td>3.0</td>\n",
       "      <td>CENTRO DE VACINAÇÃO UNINASSAU</td>\n",
       "    </tr>\n",
       "  </tbody>\n",
       "</table>\n",
       "</div>"
      ],
      "text/plain": [
       "   dose                           local_vacinacao\n",
       "0   2.0            DRIVE THRU PARQUE DE EXPOSIÇÃO\n",
       "1   1.0            DRIVE THRU PARQUE DE EXPOSIÇÃO\n",
       "2   2.0   CENTRO DE VACINAÇÃO PARQUE DE EXPOSIÇÃO\n",
       "3   1.0  CENTRO DE VACINAÇÃO COMPAZ MIGUEL ARRAES\n",
       "4   3.0             CENTRO DE VACINAÇÃO UNINASSAU"
      ]
     },
     "execution_count": 53,
     "metadata": {},
     "output_type": "execute_result"
    }
   ],
   "source": [
    "microdadosVacina = microdadosVacina.drop(columns=['cpf','nome','grupo','vacina','lote','data_vacinacao','sexo',])\n",
    "microdadosVacina.head()"
   ]
  },
  {
   "cell_type": "code",
   "execution_count": 54,
   "id": "f67b2aec",
   "metadata": {},
   "outputs": [],
   "source": [
    "dt = microdadosVacina.dropna()"
   ]
  },
  {
   "cell_type": "markdown",
   "id": "93fa0e11",
   "metadata": {},
   "source": [
    "Realizando a separação para trabalhar apenas com as colunas de local de vacinação e de dose aplicada"
   ]
  },
  {
   "cell_type": "code",
   "execution_count": 55,
   "id": "9f3a5bce",
   "metadata": {},
   "outputs": [],
   "source": [
    "colunasSelecionadas_LocaisVacinas = ['local_vacinacao']\n",
    "colunasSelecionadas_DosesVacinas = ['dose']\n",
    "colunasSelecionadas_LocaisDoses = ['dose', 'local_vacinacao']\n",
    "microdadosVacina_Locais = microdadosVacina.filter(items = colunasSelecionadas_LocaisVacinas)\n",
    "microdadosVacina_Doses = microdadosVacina.filter(items = colunasSelecionadas_DosesVacinas)\n",
    "microdadosVacina_Locais_doses = microdadosVacina.filter(items = colunasSelecionadas_LocaisDoses)"
   ]
  },
  {
   "cell_type": "markdown",
   "id": "8648b2e5",
   "metadata": {},
   "source": [
    "Fazendo a contagem para ver quantos locais de vacinaçao tem e quantas doses foram aplicadas em cada local"
   ]
  },
  {
   "cell_type": "code",
   "execution_count": 56,
   "id": "3c0c859b",
   "metadata": {
    "scrolled": true
   },
   "outputs": [
    {
     "data": {
      "text/plain": [
       "local_vacinacao                                   \n",
       "DRIVE THRU PARQUE DA MACAXEIRA                        225295\n",
       "CENTRO DE VACINAÇÃO  COMPAZ ARIANO SUASSUNA           220034\n",
       "DRIVE THRU GERALDÃO                                   215437\n",
       "DRIVE THRU - DNOCS                                    197749\n",
       "DRIVE THRU DA UFPE                                    177421\n",
       "                                                       ...  \n",
       "DRIVE THRU DNOCS                                           8\n",
       "CENTRO DE VACINAÇÃO COMPAZ ARIANO SUASSUNA                 7\n",
       "USF COQUE BERILO PERNAMBUCANO (UNIDADE MÓVEL)              3\n",
       "CENTRO DE REFERÊNCIA EAPV COVID-19 (UNIDADE MÓVEL)         2\n",
       "DRIVE THRU - UNICAP (UNIDADE MÓVEL)                        1\n",
       "Length: 141, dtype: int64"
      ]
     },
     "execution_count": 56,
     "metadata": {},
     "output_type": "execute_result"
    }
   ],
   "source": [
    "microdadosVacina_Locais.value_counts()"
   ]
  },
  {
   "cell_type": "markdown",
   "id": "0b21937f",
   "metadata": {},
   "source": [
    "# Análise da quantidade total de doses aplicadas"
   ]
  },
  {
   "cell_type": "markdown",
   "id": "006c3712",
   "metadata": {},
   "source": [
    "Grafico de histograma da quantidade de doses com a contagem da distribuição de quantas vacinas foram aplicadas de cada dose"
   ]
  },
  {
   "cell_type": "code",
   "execution_count": 57,
   "id": "158ba6c7",
   "metadata": {},
   "outputs": [
    {
     "data": {
      "text/plain": [
       "dose\n",
       "1.0     1519688\n",
       "2.0     1312330\n",
       "3.0      574350\n",
       "4.0         929\n",
       "dtype: int64"
      ]
     },
     "execution_count": 57,
     "metadata": {},
     "output_type": "execute_result"
    },
    {
     "data": {
      "image/png": "[encoded data removed]",
      "text/plain": [
       "<Figure size 432x288 with 1 Axes>"
      ]
     },
     "metadata": {
      "needs_background": "light"
     },
     "output_type": "display_data"
    }
   ],
   "source": [
    "microdadosVacina_Doses.hist()\n",
    "microdadosVacina_Doses.value_counts()"
   ]
  },
  {
   "cell_type": "markdown",
   "id": "49e4ae68",
   "metadata": {},
   "source": [
    "Porcentagem das doses aplicadas no total"
   ]
  },
  {
   "cell_type": "code",
   "execution_count": 58,
   "id": "859c38fd",
   "metadata": {
    "scrolled": false
   },
   "outputs": [
    {
     "name": "stdout",
     "output_type": "stream",
     "text": [
      "Porcentagem da 1ª dose:44.6%\n",
      "Porcentagem da 2ª dose:38.52%\n",
      "Porcentagem da 3ª dose:16.86%\n",
      "Porcentagem da 4ª dose:0.03%\n"
     ]
    }
   ],
   "source": [
    "distInDoses = microdadosVacina_Doses.value_counts()\n",
    "percentInDoses = [100*x/distInDoses.sum() for x in distInDoses]\n",
    "print(f'Porcentagem da 1ª dose:{round(percentInDoses[0], 2)}%')\n",
    "print(f'Porcentagem da 2ª dose:{round(percentInDoses[1], 2)}%')\n",
    "print(f'Porcentagem da 3ª dose:{round(percentInDoses[2], 2)}%')\n",
    "print(f'Porcentagem da 4ª dose:{round(percentInDoses[3], 2)}%')"
   ]
  },
  {
   "cell_type": "markdown",
   "id": "0ff150e9",
   "metadata": {},
   "source": [
    "Com esses dados, vemos que o número de pessoas que tomaram dosagens consecutivas da vacina diminuiu, o que permite o surgimento de novas epidemias no futuro, onde as pessoas que tomaram certa quantidade de doses podem potencializar o adoecimento de pessoas mais tarde, o dado ideal seria o das porcentagens fossem as mais semelhantes possíveis, para confirmar que a maioria da população estava protegida contra o Covid-19."
   ]
  },
  {
   "cell_type": "markdown",
   "id": "2fe921a5",
   "metadata": {},
   "source": [
    "# Análise dos 5 locais com mais aplicações de vacinas"
   ]
  },
  {
   "cell_type": "code",
   "execution_count": 59,
   "id": "0f0d4427",
   "metadata": {
    "scrolled": false
   },
   "outputs": [
    {
     "name": "stdout",
     "output_type": "stream",
     "text": [
      "Locais onde mais foram aplicadas doses da vacina:\n"
     ]
    },
    {
     "data": {
      "image/png": "[encoded data removed]",
      "text/plain": [
       "<Figure size 432x288 with 1 Axes>"
      ]
     },
     "metadata": {},
     "output_type": "display_data"
    },
    {
     "name": "stdout",
     "output_type": "stream",
     "text": [
      "Quantidade de vacinas do local com maior numero de vacinas: 225295\n",
      "Quantidade de vacinas do local com segundo maior numero de vacinas: 220034\n",
      "Quantidade de vacinas do local com terceiro maior numero de vacinas: 215437\n",
      "Quantidade de vacinas do local com quarto maior numero de vacinas: 197749\n",
      "Quantidade de vacinas do local com quinto maior numero de vacinas: 177421\n",
      "Quantidade de vacinas dos outros locais: 2371362\n"
     ]
    }
   ],
   "source": [
    "print('Locais onde mais foram aplicadas doses da vacina:')\n",
    "local1 = microdadosVacina.dropna().loc[microdadosVacina['local_vacinacao'] == 'DRIVE THRU PARQUE DA MACAXEIRA']\n",
    "qtd_1_local = local1.count()[0]\n",
    "\n",
    "local2 = microdadosVacina.dropna().loc[microdadosVacina['local_vacinacao'] == 'CENTRO DE VACINAÇÃO  COMPAZ ARIANO SUASSUNA']\n",
    "qtd_2_local = local2.count()[0]\n",
    "\n",
    "local3 = microdadosVacina.dropna().loc[microdadosVacina['local_vacinacao'] == 'DRIVE THRU GERALDÃO']\n",
    "qtd_3_local = local3.count()[0]\n",
    "\n",
    "local4 = microdadosVacina.dropna().loc[microdadosVacina['local_vacinacao'] == 'DRIVE THRU - DNOCS']\n",
    "qtd_4_local = local4.count()[0]\n",
    "\n",
    "local5 = microdadosVacina.dropna().loc[microdadosVacina['local_vacinacao'] == 'DRIVE THRU DA UFPE']\n",
    "qtd_5_local = local5.count()[0]\n",
    "\n",
    "outros = (microdadosVacina['local_vacinacao'] != 'DRIVE THRU PARQUE DA MACAXEIRA')&(microdadosVacina['local_vacinacao'] != 'CENTRO DE VACINAÇÃO  COMPAZ ARIANO SUASSUNA')&(microdadosVacina['local_vacinacao'] != 'DRIVE THRU - DNOCS')&(microdadosVacina['local_vacinacao'] != 'DRIVE THRU GERALDÃO')&(microdadosVacina['local_vacinacao'] != 'DRIVE THRU DA UFPE')\n",
    "qntd_outros_total = outros.sum()\n",
    "\n",
    "labels = ['OUTROS', 'DRIVE THRU PARQUE DA MACAXEIRA', 'CENTRO DE VACINAÇÃO  COMPAZ ARIANO SUASSUNA','DRIVE THRU GERALDÃO', 'DRIVE THRU - DNOCS', 'DRIVE THRU DA UFPE']\n",
    "values = [qntd_outros_total, qtd_1_local, qtd_2_local, qtd_3_local, qtd_4_local, qtd_5_local]\n",
    "\n",
    "fig1, ax1 = plt.subplots()\n",
    "plt.rcParams['xtick.labelsize'] = 10\n",
    "ax1.pie(values, labels=labels, autopct='%1.1f%%', shadow=False, startangle=90, colors = ['steelblue', 'red', 'silver', 'pink', 'green', 'orange'], explode=(0.05, 0.05, 0.05, 0.05, 0.05, 0.05))\n",
    "#plt.title('Locais onde mais foram aplicadas doses da vacina:')\n",
    "ax1.axis('equal')\n",
    "plt.show()\n",
    "\n",
    "print(f'Quantidade de vacinas do local com maior numero de vacinas: {qtd_1_local}')\n",
    "print(f'Quantidade de vacinas do local com segundo maior numero de vacinas: {qtd_2_local}')\n",
    "print(f'Quantidade de vacinas do local com terceiro maior numero de vacinas: {qtd_3_local}')\n",
    "print(f'Quantidade de vacinas do local com quarto maior numero de vacinas: {qtd_4_local}')\n",
    "print(f'Quantidade de vacinas do local com quinto maior numero de vacinas: {qtd_5_local}')\n",
    "print(f'Quantidade de vacinas dos outros locais: {qntd_outros_total}')\n"
   ]
  },
  {
   "cell_type": "markdown",
   "id": "55ebdbef",
   "metadata": {},
   "source": [
    "A partir da visualização e análise do gráfico gerado é possível notar que apesar dos pontos de maior estrutura pra vacinar, a vacinação ocorreu de modo muito disperso pela cidade. Tal dado pode ser considerado normal, já que na cidade do recife existiram inúmeros pontos de vacinação o que demonstra um ponto positivo no combate ao covid."
   ]
  },
  {
   "cell_type": "markdown",
   "id": "5b63cff6",
   "metadata": {},
   "source": [
    "# Análise dos locais onde houve mais aplicação de cada dose "
   ]
  },
  {
   "cell_type": "markdown",
   "id": "55912c57",
   "metadata": {},
   "source": [
    "Locais com mais vacinas aplicadas contando com todas as vacinas juntas"
   ]
  },
  {
   "cell_type": "code",
   "execution_count": 60,
   "id": "b5a0150a",
   "metadata": {
    "scrolled": true
   },
   "outputs": [
    {
     "data": {
      "text/plain": [
       "dose  local_vacinacao                                   \n",
       "1.0   DRIVE THRU PARQUE DA MACAXEIRA                        103388\n",
       "      CENTRO DE VACINAÇÃO  COMPAZ ARIANO SUASSUNA            98184\n",
       "2.0   CENTRO DE VACINAÇÃO  COMPAZ ARIANO SUASSUNA            90415\n",
       "1.0   DRIVE THRU - DNOCS                                     87076\n",
       "      DRIVE THRU DA UFPE                                     85848\n",
       "                                                             ...  \n",
       "2.0   CENTRO DE REFERÊNCIA EAPV COVID-19 (UNIDADE MÓVEL)         1\n",
       "1.0   USF COQUE BERILO PERNAMBUCANO (UNIDADE MÓVEL)              1\n",
       "2.0   CENTRO DE VACINAÇÃO UFPE (UNIDADE MÓVEL)                   1\n",
       "4.0   EQUIPE VOLANTE DS VII                                      1\n",
       "      DRIVE THRU DA UFPE                                         1\n",
       "Length: 413, dtype: int64"
      ]
     },
     "execution_count": 60,
     "metadata": {},
     "output_type": "execute_result"
    }
   ],
   "source": [
    "microdadosVacina_Locais_doses.value_counts()"
   ]
  },
  {
   "cell_type": "markdown",
   "id": "923384ee",
   "metadata": {},
   "source": [
    "Vacinas aplicadas ordenada por cada lugar"
   ]
  },
  {
   "cell_type": "code",
   "execution_count": 61,
   "id": "cdaccbfd",
   "metadata": {
    "scrolled": false
   },
   "outputs": [
    {
     "data": {
      "text/html": [
       "<div>\n",
       "<style scoped>\n",
       "    .dataframe tbody tr th:only-of-type {\n",
       "        vertical-align: middle;\n",
       "    }\n",
       "\n",
       "    .dataframe tbody tr th {\n",
       "        vertical-align: top;\n",
       "    }\n",
       "\n",
       "    .dataframe thead th {\n",
       "        text-align: right;\n",
       "    }\n",
       "</style>\n",
       "<table border=\"1\" class=\"dataframe\">\n",
       "  <thead>\n",
       "    <tr style=\"text-align: right;\">\n",
       "      <th></th>\n",
       "      <th>dose</th>\n",
       "      <th>local_vacinacao</th>\n",
       "    </tr>\n",
       "  </thead>\n",
       "  <tbody>\n",
       "    <tr>\n",
       "      <th>2529525</th>\n",
       "      <td>3.0</td>\n",
       "      <td>CENTRO DE SAÚDE BIDU KRAUSE (UNIDADE MÓVEL)</td>\n",
       "    </tr>\n",
       "    <tr>\n",
       "      <th>2978570</th>\n",
       "      <td>2.0</td>\n",
       "      <td>CENTRO DE SAÚDE BIDU KRAUSE (UNIDADE MÓVEL)</td>\n",
       "    </tr>\n",
       "    <tr>\n",
       "      <th>1284788</th>\n",
       "      <td>3.0</td>\n",
       "      <td>CENTRO DE SAÚDE BIDU KRAUSE (UNIDADE MÓVEL)</td>\n",
       "    </tr>\n",
       "    <tr>\n",
       "      <th>719908</th>\n",
       "      <td>3.0</td>\n",
       "      <td>CENTRO DE SAÚDE BIDU KRAUSE (UNIDADE MÓVEL)</td>\n",
       "    </tr>\n",
       "    <tr>\n",
       "      <th>1784979</th>\n",
       "      <td>3.0</td>\n",
       "      <td>CENTRO DE SAÚDE BIDU KRAUSE (UNIDADE MÓVEL)</td>\n",
       "    </tr>\n",
       "    <tr>\n",
       "      <th>...</th>\n",
       "      <td>...</td>\n",
       "      <td>...</td>\n",
       "    </tr>\n",
       "    <tr>\n",
       "      <th>879076</th>\n",
       "      <td>1.0</td>\n",
       "      <td>VACINAÇÃO ESCOLAR ITINERANTE</td>\n",
       "    </tr>\n",
       "    <tr>\n",
       "      <th>700955</th>\n",
       "      <td>2.0</td>\n",
       "      <td>VACINAÇÃO ESCOLAR ITINERANTE</td>\n",
       "    </tr>\n",
       "    <tr>\n",
       "      <th>700971</th>\n",
       "      <td>2.0</td>\n",
       "      <td>VACINAÇÃO ESCOLAR ITINERANTE</td>\n",
       "    </tr>\n",
       "    <tr>\n",
       "      <th>1121949</th>\n",
       "      <td>2.0</td>\n",
       "      <td>VACINAÇÃO ESCOLAR ITINERANTE</td>\n",
       "    </tr>\n",
       "    <tr>\n",
       "      <th>968475</th>\n",
       "      <td>2.0</td>\n",
       "      <td>VACINAÇÃO ESCOLAR ITINERANTE</td>\n",
       "    </tr>\n",
       "  </tbody>\n",
       "</table>\n",
       "<p>3407297 rows × 2 columns</p>\n",
       "</div>"
      ],
      "text/plain": [
       "         dose                               local_vacinacao\n",
       "2529525   3.0   CENTRO DE SAÚDE BIDU KRAUSE (UNIDADE MÓVEL)\n",
       "2978570   2.0   CENTRO DE SAÚDE BIDU KRAUSE (UNIDADE MÓVEL)\n",
       "1284788   3.0   CENTRO DE SAÚDE BIDU KRAUSE (UNIDADE MÓVEL)\n",
       "719908    3.0   CENTRO DE SAÚDE BIDU KRAUSE (UNIDADE MÓVEL)\n",
       "1784979   3.0   CENTRO DE SAÚDE BIDU KRAUSE (UNIDADE MÓVEL)\n",
       "...       ...                                           ...\n",
       "879076    1.0                  VACINAÇÃO ESCOLAR ITINERANTE\n",
       "700955    2.0                  VACINAÇÃO ESCOLAR ITINERANTE\n",
       "700971    2.0                  VACINAÇÃO ESCOLAR ITINERANTE\n",
       "1121949   2.0                  VACINAÇÃO ESCOLAR ITINERANTE\n",
       "968475    2.0                  VACINAÇÃO ESCOLAR ITINERANTE\n",
       "\n",
       "[3407297 rows x 2 columns]"
      ]
     },
     "execution_count": 61,
     "metadata": {},
     "output_type": "execute_result"
    }
   ],
   "source": [
    "order = dt.sort_values(by=['local_vacinacao'])\n",
    "order"
   ]
  },
  {
   "cell_type": "markdown",
   "id": "7c1d0bd2",
   "metadata": {},
   "source": [
    "Separando os dados para análise por local de vacina mais dose aplicada: 1ª dose, 2ª dose, 3ª dose e 4ª dose."
   ]
  },
  {
   "cell_type": "code",
   "execution_count": 62,
   "id": "54788bee",
   "metadata": {},
   "outputs": [],
   "source": [
    "filtered_dt_dose_1 = dt.loc[(dt['dose'] == 1)]\n",
    "filtered_dt_dose_2 = dt.loc[(dt['dose'] == 2)]\n",
    "filtered_dt_dose_3 = dt.loc[(dt['dose'] == 3)]\n",
    "filtered_dt_dose_4 = dt.loc[(dt['dose'] == 4)]"
   ]
  },
  {
   "cell_type": "markdown",
   "id": "75a9e56e",
   "metadata": {},
   "source": [
    "# Análise Primeira Dose"
   ]
  },
  {
   "cell_type": "markdown",
   "id": "5ab22dbf",
   "metadata": {},
   "source": [
    "Primeiramente coletamos os lugares que mais vacinaram a primeira dose."
   ]
  },
  {
   "cell_type": "code",
   "execution_count": 63,
   "id": "efe35e90",
   "metadata": {
    "scrolled": true
   },
   "outputs": [
    {
     "data": {
      "text/plain": [
       "dose  local_vacinacao                                   \n",
       "1.0   DRIVE THRU PARQUE DA MACAXEIRA                        103388\n",
       "      CENTRO DE VACINAÇÃO  COMPAZ ARIANO SUASSUNA            98184\n",
       "      DRIVE THRU - DNOCS                                     87076\n",
       "      DRIVE THRU DA UFPE                                     85848\n",
       "      DRIVE THRU GERALDÃO                                    81712\n",
       "                                                             ...  \n",
       "      UBT FRANCISCO PIGNATARI (UNIDADE MÓVEL)                    3\n",
       "      CENTRO DE SAÚDE ROMERO MARQUES (UNIDADE MÓVEL)             3\n",
       "      USF SÍTIO DOS PINTOS (UNIDADE MÓVEL)                       2\n",
       "      CENTRO DE REFERÊNCIA EAPV COVID-19 (UNIDADE MÓVEL)         1\n",
       "      USF COQUE BERILO PERNAMBUCANO (UNIDADE MÓVEL)              1\n",
       "Length: 138, dtype: int64"
      ]
     },
     "execution_count": 63,
     "metadata": {},
     "output_type": "execute_result"
    }
   ],
   "source": [
    "filtered_dt_dose_1.value_counts()"
   ]
  },
  {
   "cell_type": "markdown",
   "id": "a807b29c",
   "metadata": {},
   "source": [
    "Após realizamos a contagem de todas as vacinas tirando os cinco maiores locais"
   ]
  },
  {
   "cell_type": "code",
   "execution_count": 64,
   "id": "909efe22",
   "metadata": {},
   "outputs": [],
   "source": [
    "outros_1_dose = (filtered_dt_dose_1['local_vacinacao'] != 'DRIVE THRU PARQUE DA MACAXEIRA')& (filtered_dt_dose_1['local_vacinacao'] != 'CENTRO DE VACINAÇÃO  COMPAZ ARIANO SUASSUNA')& (filtered_dt_dose_1['local_vacinacao'] != 'DRIVE THRU - DNOCS')& (filtered_dt_dose_1['local_vacinacao'] != 'DRIVE THRU DA UFPE')& (filtered_dt_dose_1['local_vacinacao'] != 'DRIVE THRU GERALDÃO')\n",
    "qntd_outros_1_total = outros_1_dose.sum()"
   ]
  },
  {
   "cell_type": "markdown",
   "id": "3aa7a959",
   "metadata": {},
   "source": [
    "Após realizamos o gráfico para facilitação da vizualização dos dados dos locais com maiores números de vacinas aplicadas da primeria dose."
   ]
  },
  {
   "cell_type": "code",
   "execution_count": 65,
   "id": "0f745492",
   "metadata": {
    "scrolled": false
   },
   "outputs": [
    {
     "name": "stderr",
     "output_type": "stream",
     "text": [
      "C:\\Users\\luisf\\AppData\\Local\\Temp\\ipykernel_14188\\491520320.py:2: UserWarning: Boolean Series key will be reindexed to match DataFrame index.\n",
      "  local_1_1 = filtered_dt_dose_1[microdadosVacina['local_vacinacao'] == 'DRIVE THRU PARQUE DA MACAXEIRA']\n",
      "C:\\Users\\luisf\\AppData\\Local\\Temp\\ipykernel_14188\\491520320.py:5: UserWarning: Boolean Series key will be reindexed to match DataFrame index.\n",
      "  local_1_2 = filtered_dt_dose_1[microdadosVacina['local_vacinacao'] == 'CENTRO DE VACINAÇÃO  COMPAZ ARIANO SUASSUNA']\n",
      "C:\\Users\\luisf\\AppData\\Local\\Temp\\ipykernel_14188\\491520320.py:8: UserWarning: Boolean Series key will be reindexed to match DataFrame index.\n",
      "  local_1_3 = filtered_dt_dose_1[microdadosVacina['local_vacinacao'] == 'DRIVE THRU - DNOCS']\n",
      "C:\\Users\\luisf\\AppData\\Local\\Temp\\ipykernel_14188\\491520320.py:11: UserWarning: Boolean Series key will be reindexed to match DataFrame index.\n",
      "  local_1_4 = filtered_dt_dose_1[microdadosVacina['local_vacinacao'] == 'DRIVE THRU DA UFPE']\n",
      "C:\\Users\\luisf\\AppData\\Local\\Temp\\ipykernel_14188\\491520320.py:14: UserWarning: Boolean Series key will be reindexed to match DataFrame index.\n",
      "  local_1_5 = filtered_dt_dose_1[microdadosVacina['local_vacinacao'] == 'DRIVE THRU GERALDÃO']\n"
     ]
    },
    {
     "data": {
      "image/png": "[encoded data removed]",
      "text/plain": [
       "<Figure size 432x288 with 1 Axes>"
      ]
     },
     "metadata": {},
     "output_type": "display_data"
    },
    {
     "name": "stdout",
     "output_type": "stream",
     "text": [
      "Quantidade de vacinas do local com maior numero de vacinas da primeira dose: 103388\n",
      "Quantidade de vacinas do local com segundo maior numero de vacinas da primeira dose: 98184\n",
      "Quantidade de vacinas do local com terceiro maior numero de vacinas da primeira dose: 87076\n",
      "Quantidade de vacinas do local com quarto maior numero de vacinas da primeira dose: 85848\n",
      "Quantidade de vacinas do local com quinto maior numero de vacinas da primeira dose: 81712\n",
      "Quantidade de vacinas dos outros locais: 1063480\n"
     ]
    }
   ],
   "source": [
    "#GRAFICO PRIMEIRA DOSE\n",
    "local_1_1 = filtered_dt_dose_1[microdadosVacina['local_vacinacao'] == 'DRIVE THRU PARQUE DA MACAXEIRA']\n",
    "qtd_1maior = local_1_1.count()[0]\n",
    "\n",
    "local_1_2 = filtered_dt_dose_1[microdadosVacina['local_vacinacao'] == 'CENTRO DE VACINAÇÃO  COMPAZ ARIANO SUASSUNA']\n",
    "qtd_1seg_maior = local_1_2.count()[0]\n",
    "\n",
    "local_1_3 = filtered_dt_dose_1[microdadosVacina['local_vacinacao'] == 'DRIVE THRU - DNOCS']\n",
    "qtd_1terc_maior = local_1_3.count()[0]\n",
    "\n",
    "local_1_4 = filtered_dt_dose_1[microdadosVacina['local_vacinacao'] == 'DRIVE THRU DA UFPE']\n",
    "qtd_1quat_maior = local_1_4.count()[0]\n",
    "\n",
    "local_1_5 = filtered_dt_dose_1[microdadosVacina['local_vacinacao'] == 'DRIVE THRU GERALDÃO']\n",
    "qtd_1quin_maior = local_1_5.count()[0]\n",
    "\n",
    "qtd_1_6_local = qntd_outros_1_total\n",
    "\n",
    "labels = ['DRIVE THRU PARQUE DA MACAXEIRA', 'CENTRO DE VACINAÇÃO  COMPAZ ARIANO SUASSUNA', 'DRIVE THRU - DNOCS', 'DRIVE THRU DA UFPE', 'DRIVE THRU GERALDÃO', 'OUTROS']\n",
    "values = [qtd_1maior, qtd_1seg_maior, qtd_1terc_maior, qtd_1quat_maior, qtd_1quin_maior, qtd_1_6_local]\n",
    "\n",
    "\n",
    "fig1, ax1 = plt.subplots()\n",
    "plt.rcParams['xtick.labelsize'] = 10\n",
    "ax1.pie(values, labels=labels, autopct='%1.1f%%', shadow=False, startangle=90, colors = ['steelblue', 'red', 'silver', 'pink', 'green', 'orange'], explode=(0.05, 0.05, 0.05, 0.05, 0.05, 0.05))\n",
    "plt.title('Locais onde mais foram aplicadas a 1ª dose da vacina:')\n",
    "ax1.axis('equal')\n",
    "plt.show()\n",
    "\n",
    "print(f'Quantidade de vacinas do local com maior numero de vacinas da primeira dose: {qtd_1maior}')\n",
    "print(f'Quantidade de vacinas do local com segundo maior numero de vacinas da primeira dose: {qtd_1seg_maior}')\n",
    "print(f'Quantidade de vacinas do local com terceiro maior numero de vacinas da primeira dose: {qtd_1terc_maior}')\n",
    "print(f'Quantidade de vacinas do local com quarto maior numero de vacinas da primeira dose: {qtd_1quat_maior}')\n",
    "print(f'Quantidade de vacinas do local com quinto maior numero de vacinas da primeira dose: {qtd_1quin_maior}')\n",
    "print(f'Quantidade de vacinas dos outros locais: {qtd_1_6_local}')\n"
   ]
  },
  {
   "cell_type": "markdown",
   "id": "04573d35",
   "metadata": {},
   "source": [
    "Logo após realizamos o mesmo processo para as demais doses da vacina."
   ]
  },
  {
   "cell_type": "markdown",
   "id": "d9288b60",
   "metadata": {},
   "source": [
    "# Análise Segunda Dose"
   ]
  },
  {
   "cell_type": "code",
   "execution_count": 66,
   "id": "eb483bed",
   "metadata": {
    "scrolled": true
   },
   "outputs": [
    {
     "data": {
      "text/plain": [
       "dose  local_vacinacao                                   \n",
       "2.0   CENTRO DE VACINAÇÃO  COMPAZ ARIANO SUASSUNA           90415\n",
       "      DRIVE THRU DA UFPE                                    85168\n",
       "      DRIVE THRU PARQUE DA MACAXEIRA                        82866\n",
       "      DRIVE THRU GERALDÃO                                   82666\n",
       "      DRIVE THRU - DNOCS                                    76782\n",
       "                                                            ...  \n",
       "      USF COQUE BERILO PERNAMBUCANO (UNIDADE MÓVEL)             2\n",
       "      CENTRO DE VACINAÇÃO UFPE                                  1\n",
       "      CENTRO DE VACINAÇÃO UFPE (UNIDADE MÓVEL)                  1\n",
       "      CENTRO DE REFERÊNCIA EAPV COVID-19 (UNIDADE MÓVEL)        1\n",
       "      CENTRO DE VACINAÇÃO UNIVERSO (UNIDADE MÓVEL)              1\n",
       "Length: 123, dtype: int64"
      ]
     },
     "execution_count": 66,
     "metadata": {},
     "output_type": "execute_result"
    }
   ],
   "source": [
    "filtered_dt_dose_2.value_counts()"
   ]
  },
  {
   "cell_type": "code",
   "execution_count": 67,
   "id": "de549d50",
   "metadata": {},
   "outputs": [],
   "source": [
    "outros_2_dose = (filtered_dt_dose_2['local_vacinacao'] != 'CENTRO DE VACINAÇÃO  COMPAZ ARIANO SUASSUNA')& (filtered_dt_dose_2['local_vacinacao'] != 'DRIVE THRU DA UFPE')& (filtered_dt_dose_2['local_vacinacao'] != 'DRIVE THRU PARQUE DA MACAXEIRA')& (filtered_dt_dose_2['local_vacinacao'] != 'DRIVE THRU - DNOCS')& (filtered_dt_dose_2['local_vacinacao'] != 'DRIVE THRU GERALDÃO')\n",
    "qntd_outros_2_total = outros_2_dose.sum()"
   ]
  },
  {
   "cell_type": "code",
   "execution_count": 68,
   "id": "58e4f1f3",
   "metadata": {
    "scrolled": false
   },
   "outputs": [
    {
     "name": "stderr",
     "output_type": "stream",
     "text": [
      "C:\\Users\\luisf\\AppData\\Local\\Temp\\ipykernel_14188\\4123636565.py:2: UserWarning: Boolean Series key will be reindexed to match DataFrame index.\n",
      "  local_2_1 = filtered_dt_dose_2[microdadosVacina['local_vacinacao'] == 'CENTRO DE VACINAÇÃO  COMPAZ ARIANO SUASSUNA']\n",
      "C:\\Users\\luisf\\AppData\\Local\\Temp\\ipykernel_14188\\4123636565.py:5: UserWarning: Boolean Series key will be reindexed to match DataFrame index.\n",
      "  local_2_2 = filtered_dt_dose_2[microdadosVacina['local_vacinacao'] == 'DRIVE THRU DA UFPE']\n",
      "C:\\Users\\luisf\\AppData\\Local\\Temp\\ipykernel_14188\\4123636565.py:8: UserWarning: Boolean Series key will be reindexed to match DataFrame index.\n",
      "  local_2_3 = filtered_dt_dose_2[microdadosVacina['local_vacinacao'] == 'DRIVE THRU PARQUE DA MACAXEIRA']\n",
      "C:\\Users\\luisf\\AppData\\Local\\Temp\\ipykernel_14188\\4123636565.py:11: UserWarning: Boolean Series key will be reindexed to match DataFrame index.\n",
      "  local_2_4 = filtered_dt_dose_2[microdadosVacina['local_vacinacao'] == 'DRIVE THRU GERALDÃO']\n",
      "C:\\Users\\luisf\\AppData\\Local\\Temp\\ipykernel_14188\\4123636565.py:14: UserWarning: Boolean Series key will be reindexed to match DataFrame index.\n",
      "  local_2_5 = filtered_dt_dose_2[microdadosVacina['local_vacinacao'] == 'DRIVE THRU - DNOCS']\n"
     ]
    },
    {
     "data": {
      "image/png": "[encoded data removed]",
      "text/plain": [
       "<Figure size 432x288 with 1 Axes>"
      ]
     },
     "metadata": {},
     "output_type": "display_data"
    },
    {
     "name": "stdout",
     "output_type": "stream",
     "text": [
      "Quantidade de vacinas do local com maior numero de vacinas da segunda dose: 90415\n",
      "Quantidade de vacinas do local com segundo maior numero de vacinas da segunda dose: 85168\n",
      "Quantidade de vacinas do local com terceiro maior numero de vacinas da segunda dose: 82866\n",
      "Quantidade de vacinas do local com quarto maior numero de vacinas da segunda dose: 82666\n",
      "Quantidade de vacinas do local com quinto maior numero de vacinas da segunda dose: 76782\n",
      "Quantidade de vacinas dos outros locais: 894433\n"
     ]
    }
   ],
   "source": [
    "#GRAFICO SEGUNDA DOSE\n",
    "local_2_1 = filtered_dt_dose_2[microdadosVacina['local_vacinacao'] == 'CENTRO DE VACINAÇÃO  COMPAZ ARIANO SUASSUNA']\n",
    "qtd_2maior = local_2_1.count()[0]\n",
    "\n",
    "local_2_2 = filtered_dt_dose_2[microdadosVacina['local_vacinacao'] == 'DRIVE THRU DA UFPE']\n",
    "qtd_2seg_maior = local_2_2.count()[0]\n",
    "\n",
    "local_2_3 = filtered_dt_dose_2[microdadosVacina['local_vacinacao'] == 'DRIVE THRU PARQUE DA MACAXEIRA']\n",
    "qtd_2terc_maior = local_2_3.count()[0]\n",
    "\n",
    "local_2_4 = filtered_dt_dose_2[microdadosVacina['local_vacinacao'] == 'DRIVE THRU GERALDÃO']\n",
    "qtd_2quat_maior = local_2_4.count()[0]\n",
    "\n",
    "local_2_5 = filtered_dt_dose_2[microdadosVacina['local_vacinacao'] == 'DRIVE THRU - DNOCS']\n",
    "qtd_2quin_maior = local_2_5.count()[0]\n",
    "\n",
    "qtd_2_6_local = qntd_outros_2_total\n",
    "\n",
    "labels = ['CENTRO DE VACINAÇÃO  COMPAZ ARIANO SUASSUNA', 'DRIVE THRU DA UFPE', 'DRIVE THRU PARQUE DA MACAXEIRA', 'DRIVE THRU GERALDÃO', 'DRIVE THRU - DNOCS', 'OUTROS']\n",
    "values = [qtd_2maior, qtd_2seg_maior, qtd_2terc_maior, qtd_2quat_maior, qtd_2quin_maior, qtd_2_6_local]\n",
    "\n",
    "fig1, ax1 = plt.subplots()\n",
    "plt.rcParams['xtick.labelsize'] = 10\n",
    "ax1.pie(values, labels=labels, autopct='%1.1f%%', shadow=False, startangle=90, colors = ['steelblue', 'red', 'silver', 'pink', 'green', 'orange'], explode=(0.05, 0.05, 0.05, 0.05, 0.05, 0.05))\n",
    "plt.title('Locais onde mais foram aplicadas a 2ª dose da vacina:')\n",
    "ax1.axis('equal')\n",
    "plt.show()\n",
    "\n",
    "print(f'Quantidade de vacinas do local com maior numero de vacinas da segunda dose: {qtd_2maior}')\n",
    "print(f'Quantidade de vacinas do local com segundo maior numero de vacinas da segunda dose: {qtd_2seg_maior}')\n",
    "print(f'Quantidade de vacinas do local com terceiro maior numero de vacinas da segunda dose: {qtd_2terc_maior}')\n",
    "print(f'Quantidade de vacinas do local com quarto maior numero de vacinas da segunda dose: {qtd_2quat_maior}')\n",
    "print(f'Quantidade de vacinas do local com quinto maior numero de vacinas da segunda dose: {qtd_2quin_maior}')\n",
    "print(f'Quantidade de vacinas dos outros locais: {qtd_2_6_local}')"
   ]
  },
  {
   "cell_type": "markdown",
   "id": "6d13cc12",
   "metadata": {},
   "source": [
    "# Análise Terceira Dose"
   ]
  },
  {
   "cell_type": "code",
   "execution_count": 69,
   "id": "df0c645d",
   "metadata": {},
   "outputs": [
    {
     "data": {
      "text/plain": [
       "dose  local_vacinacao                            \n",
       "3.0   SESAU - BUSCA ATIVA                            55981\n",
       "      DRIVE THRU GERALDÃO                            50813\n",
       "      DRIVE THRU PARQUE DA MACAXEIRA                 38881\n",
       "      DRIVE THRU - DNOCS                             33890\n",
       "      CENTRO DE VACINAÇÃO  COMPAZ ARIANO SUASSUNA    31433\n",
       "                                                     ...  \n",
       "      USF SÍTIO DOS PINTOS (UNIDADE MÓVEL)               6\n",
       "      DRIVE THRU DNOCS                                   3\n",
       "      CENTRO DE VACINAÇÃO COMPAZ ARIANO SUASSUNA         2\n",
       "      CENTRO DE VACINAÇÃO UPINHA HÉLIO MENDONÇA          1\n",
       "      DRIVE THRU - UNICAP (UNIDADE MÓVEL)                1\n",
       "Length: 104, dtype: int64"
      ]
     },
     "execution_count": 69,
     "metadata": {},
     "output_type": "execute_result"
    }
   ],
   "source": [
    "filtered_dt_dose_3.value_counts()"
   ]
  },
  {
   "cell_type": "code",
   "execution_count": 70,
   "id": "573d302a",
   "metadata": {},
   "outputs": [],
   "source": [
    "outros_3_dose = (filtered_dt_dose_3['local_vacinacao'] != 'SESAU - BUSCA ATIVA')& (filtered_dt_dose_3['local_vacinacao'] != 'DRIVE THRU GERALDÃO')& (filtered_dt_dose_3['local_vacinacao'] != 'DRIVE THRU PARQUE DA MACAXEIRA')& (filtered_dt_dose_3['local_vacinacao'] != 'DRIVE THRU - DNOCS')& (filtered_dt_dose_3['local_vacinacao'] != 'CENTRO DE VACINAÇÃO  COMPAZ ARIANO SUASSUNA')\n",
    "qntd_outros_3_total = outros_3_dose.sum()"
   ]
  },
  {
   "cell_type": "code",
   "execution_count": 71,
   "id": "3c018b98",
   "metadata": {
    "scrolled": false
   },
   "outputs": [
    {
     "name": "stderr",
     "output_type": "stream",
     "text": [
      "C:\\Users\\luisf\\AppData\\Local\\Temp\\ipykernel_14188\\1282765866.py:2: UserWarning: Boolean Series key will be reindexed to match DataFrame index.\n",
      "  local_3_1 = filtered_dt_dose_3[microdadosVacina['local_vacinacao'] == 'SESAU - BUSCA ATIVA']\n",
      "C:\\Users\\luisf\\AppData\\Local\\Temp\\ipykernel_14188\\1282765866.py:5: UserWarning: Boolean Series key will be reindexed to match DataFrame index.\n",
      "  local_3_2 = filtered_dt_dose_3[microdadosVacina['local_vacinacao'] == 'DRIVE THRU GERALDÃO']\n",
      "C:\\Users\\luisf\\AppData\\Local\\Temp\\ipykernel_14188\\1282765866.py:8: UserWarning: Boolean Series key will be reindexed to match DataFrame index.\n",
      "  local_3_3 = filtered_dt_dose_3[microdadosVacina['local_vacinacao'] == 'DRIVE THRU PARQUE DA MACAXEIRA']\n",
      "C:\\Users\\luisf\\AppData\\Local\\Temp\\ipykernel_14188\\1282765866.py:11: UserWarning: Boolean Series key will be reindexed to match DataFrame index.\n",
      "  local_3_4 = filtered_dt_dose_3[microdadosVacina['local_vacinacao'] == 'DRIVE THRU - DNOCS']\n",
      "C:\\Users\\luisf\\AppData\\Local\\Temp\\ipykernel_14188\\1282765866.py:14: UserWarning: Boolean Series key will be reindexed to match DataFrame index.\n",
      "  local_3_5 = filtered_dt_dose_3[microdadosVacina['local_vacinacao'] == 'CENTRO DE VACINAÇÃO  COMPAZ ARIANO SUASSUNA']\n"
     ]
    },
    {
     "data": {
      "image/png": "[encoded data removed]",
      "text/plain": [
       "<Figure size 432x288 with 1 Axes>"
      ]
     },
     "metadata": {},
     "output_type": "display_data"
    },
    {
     "name": "stdout",
     "output_type": "stream",
     "text": [
      "Quantidade de vacinas do local com maior numero de vacinas da terceira dose: 55981\n",
      "Quantidade de vacinas do local com segundo maior numero de vacinas da terceira dose: 50813\n",
      "Quantidade de vacinas do local com terceiro maior numero de vacinas da terceira dose: 38881\n",
      "Quantidade de vacinas do local com quarto maior numero de vacinas da terceira dose: 33890\n",
      "Quantidade de vacinas do local com quinto maior numero de vacinas da terceira dose: 31433\n",
      "Quantidade de vacinas dos outros locais: 363352\n"
     ]
    }
   ],
   "source": [
    "#GRAFICO TERCCEIRA DOSE\n",
    "local_3_1 = filtered_dt_dose_3[microdadosVacina['local_vacinacao'] == 'SESAU - BUSCA ATIVA']\n",
    "qtd_3maior = local_3_1.count()[0]\n",
    "\n",
    "local_3_2 = filtered_dt_dose_3[microdadosVacina['local_vacinacao'] == 'DRIVE THRU GERALDÃO']\n",
    "qtd_3seg_maior = local_3_2.count()[0]\n",
    "\n",
    "local_3_3 = filtered_dt_dose_3[microdadosVacina['local_vacinacao'] == 'DRIVE THRU PARQUE DA MACAXEIRA']\n",
    "qtd_3terc_maior = local_3_3.count()[0]\n",
    "\n",
    "local_3_4 = filtered_dt_dose_3[microdadosVacina['local_vacinacao'] == 'DRIVE THRU - DNOCS']\n",
    "qtd_3quat_maior = local_3_4.count()[0]\n",
    "\n",
    "local_3_5 = filtered_dt_dose_3[microdadosVacina['local_vacinacao'] == 'CENTRO DE VACINAÇÃO  COMPAZ ARIANO SUASSUNA']\n",
    "qtd_3quin_maior = local_3_5.count()[0]\n",
    "\n",
    "qtd_3_6_local = qntd_outros_3_total\n",
    "\n",
    "labels = ['SESAU - BUSCA ATIVA', 'DRIVE THRU GERALDÃO', 'DRIVE THRU PARQUE DA MACAXEIRA', 'DRIVE THRU - DNOCS', 'CENTRO DE VACINAÇÃO  COMPAZ ARIANO SUASSUNA', 'OUTROS']\n",
    "values = [qtd_3maior, qtd_3seg_maior, qtd_3terc_maior, qtd_3quat_maior, qtd_3quin_maior, qtd_3_6_local]\n",
    "\n",
    "fig1, ax1 = plt.subplots()\n",
    "plt.rcParams['xtick.labelsize'] = 10\n",
    "ax1.pie(values, labels=labels, autopct='%1.1f%%', shadow=False, startangle=90, colors = ['steelblue', 'red', 'silver', 'pink', 'green', 'orange'], explode=(0.05, 0.05, 0.05, 0.05, 0.05, 0.05))\n",
    "plt.title('Locais onde mais foram aplicadas a 3ª dose da vacina:')\n",
    "ax1.axis('equal')\n",
    "plt.show()\n",
    "\n",
    "print(f'Quantidade de vacinas do local com maior numero de vacinas da terceira dose: {qtd_3maior}')\n",
    "print(f'Quantidade de vacinas do local com segundo maior numero de vacinas da terceira dose: {qtd_3seg_maior}')\n",
    "print(f'Quantidade de vacinas do local com terceiro maior numero de vacinas da terceira dose: {qtd_3terc_maior}')\n",
    "print(f'Quantidade de vacinas do local com quarto maior numero de vacinas da terceira dose: {qtd_3quat_maior}')\n",
    "print(f'Quantidade de vacinas do local com quinto maior numero de vacinas da terceira dose: {qtd_3quin_maior}')\n",
    "print(f'Quantidade de vacinas dos outros locais: {qtd_3_6_local}')"
   ]
  },
  {
   "cell_type": "markdown",
   "id": "2692ee8e",
   "metadata": {},
   "source": [
    "# Análise Quarta Dose"
   ]
  },
  {
   "cell_type": "code",
   "execution_count": 72,
   "id": "efab8261",
   "metadata": {},
   "outputs": [
    {
     "data": {
      "text/plain": [
       "dose  local_vacinacao               \n",
       "4.0   DRIVE THRU GERALDÃO               246\n",
       "      DRIVE THRU PARQUE DA MACAXEIRA    160\n",
       "      CENTRO DE VACINAÇÃO GERALDÃO       79\n",
       "      SESAU - BUSCA ATIVA                51\n",
       "      POLICLÍNICA  ALBERT SABIN          50\n",
       "dtype: int64"
      ]
     },
     "execution_count": 72,
     "metadata": {},
     "output_type": "execute_result"
    }
   ],
   "source": [
    "filtered_dt_dose_4.value_counts().head()"
   ]
  },
  {
   "cell_type": "code",
   "execution_count": 73,
   "id": "dbd35682",
   "metadata": {},
   "outputs": [],
   "source": [
    "outros_4_dose = (filtered_dt_dose_4['local_vacinacao'] != 'DRIVE THRU PARQUE DA MACAXEIRA')& (filtered_dt_dose_4['local_vacinacao'] != 'POLICLÍNICA  ALBERT SABIN')& (filtered_dt_dose_4['local_vacinacao'] != 'SESAU - BUSCA ATIVA')& (filtered_dt_dose_4['local_vacinacao'] != 'DRIVE THRU GERALDÃO')& (filtered_dt_dose_4['local_vacinacao'] != 'CENTRO DE VACINAÇÃO GERALDÃO')\n",
    "qntd_outros_4_total = outros_4_dose.sum()"
   ]
  },
  {
   "cell_type": "code",
   "execution_count": 74,
   "id": "bfadc38e",
   "metadata": {
    "scrolled": false
   },
   "outputs": [
    {
     "name": "stderr",
     "output_type": "stream",
     "text": [
      "C:\\Users\\luisf\\AppData\\Local\\Temp\\ipykernel_14188\\2424352867.py:2: UserWarning: Boolean Series key will be reindexed to match DataFrame index.\n",
      "  local_4_1 = filtered_dt_dose_4[microdadosVacina['local_vacinacao'] == 'DRIVE THRU GERALDÃO']\n",
      "C:\\Users\\luisf\\AppData\\Local\\Temp\\ipykernel_14188\\2424352867.py:5: UserWarning: Boolean Series key will be reindexed to match DataFrame index.\n",
      "  local_4_2 = filtered_dt_dose_4[microdadosVacina['local_vacinacao'] == 'DRIVE THRU PARQUE DA MACAXEIRA']\n",
      "C:\\Users\\luisf\\AppData\\Local\\Temp\\ipykernel_14188\\2424352867.py:8: UserWarning: Boolean Series key will be reindexed to match DataFrame index.\n",
      "  local_4_3 = filtered_dt_dose_4[microdadosVacina['local_vacinacao'] == 'CENTRO DE VACINAÇÃO GERALDÃO']\n",
      "C:\\Users\\luisf\\AppData\\Local\\Temp\\ipykernel_14188\\2424352867.py:11: UserWarning: Boolean Series key will be reindexed to match DataFrame index.\n",
      "  local_4_4 = filtered_dt_dose_4[microdadosVacina['local_vacinacao'] == 'SESAU - BUSCA ATIVA']\n",
      "C:\\Users\\luisf\\AppData\\Local\\Temp\\ipykernel_14188\\2424352867.py:14: UserWarning: Boolean Series key will be reindexed to match DataFrame index.\n",
      "  local_4_5 = filtered_dt_dose_4[microdadosVacina['local_vacinacao'] == 'POLICLÍNICA  ALBERT SABIN']\n"
     ]
    },
    {
     "data": {
      "image/png": "[encoded data removed]",
      "text/plain": [
       "<Figure size 432x288 with 1 Axes>"
      ]
     },
     "metadata": {},
     "output_type": "display_data"
    },
    {
     "name": "stdout",
     "output_type": "stream",
     "text": [
      "Quantidade de vacinas do local com maior numero de vacinas da quarta dose: 246\n",
      "Quantidade de vacinas do local com segundo maior numero de vacinas da quarta dose: 160\n",
      "Quantidade de vacinas do local com terceiro maior numero de vacinas da quarta dose: 79\n",
      "Quantidade de vacinas do local com quarto maior numero de vacinas da quarta dose: 51\n",
      "Quantidade de vacinas do local com quinto maior numero de vacinas da quarta dose: 50\n",
      "Quantidade de vacinas dos outros locais: 343\n"
     ]
    }
   ],
   "source": [
    "#GRAFICO QUARTA DOSE\n",
    "local_4_1 = filtered_dt_dose_4[microdadosVacina['local_vacinacao'] == 'DRIVE THRU GERALDÃO']\n",
    "qtd_4maior = local_4_1.count()[0]\n",
    "\n",
    "local_4_2 = filtered_dt_dose_4[microdadosVacina['local_vacinacao'] == 'DRIVE THRU PARQUE DA MACAXEIRA']\n",
    "qtd_4seg_maior = local_4_2.count()[0]\n",
    "\n",
    "local_4_3 = filtered_dt_dose_4[microdadosVacina['local_vacinacao'] == 'CENTRO DE VACINAÇÃO GERALDÃO']\n",
    "qtd_4terc_maior = local_4_3.count()[0]\n",
    "\n",
    "local_4_4 = filtered_dt_dose_4[microdadosVacina['local_vacinacao'] == 'SESAU - BUSCA ATIVA']\n",
    "qtd_4quat_maior = local_4_4.count()[0]\n",
    "\n",
    "local_4_5 = filtered_dt_dose_4[microdadosVacina['local_vacinacao'] == 'POLICLÍNICA  ALBERT SABIN']\n",
    "qtd_4quin_maior = local_4_5.count()[0]\n",
    "\n",
    "qtd_4_6_local = qntd_outros_4_total\n",
    "                               \n",
    "\n",
    "labels = ['DRIVE THRU GERALDÃO', 'DRIVE THRU PARQUE DA MACAXEIRA', 'CENTRO DE VACINAÇÃO GERALDÃO', 'SESAU - BUSCA ATIVA', 'POLICLÍNICA  ALBERT SABIN', 'OUTROS']\n",
    "values = [qtd_4maior, qtd_4seg_maior, qtd_4terc_maior, qtd_4quat_maior, qtd_4quin_maior, qtd_4_6_local]\n",
    "\n",
    "fig1, ax1 = plt.subplots()\n",
    "plt.rcParams['xtick.labelsize'] = 10\n",
    "ax1.pie(values, labels=labels, autopct='%1.1f%%', shadow=False, startangle=90, colors = ['steelblue', 'red', 'silver', 'pink', 'green', 'orange'], explode=(0.05, 0.05, 0.05, 0.05, 0.05, 0.05))\n",
    "plt.title('Locais onde mais foram aplicadas a 4ª dose da vacina:')\n",
    "ax1.axis('equal')\n",
    "plt.show()\n",
    "\n",
    "print(f'Quantidade de vacinas do local com maior numero de vacinas da quarta dose: {qtd_4maior}')\n",
    "print(f'Quantidade de vacinas do local com segundo maior numero de vacinas da quarta dose: {qtd_4seg_maior}')\n",
    "print(f'Quantidade de vacinas do local com terceiro maior numero de vacinas da quarta dose: {qtd_4terc_maior}')\n",
    "print(f'Quantidade de vacinas do local com quarto maior numero de vacinas da quarta dose: {qtd_4quat_maior}')\n",
    "print(f'Quantidade de vacinas do local com quinto maior numero de vacinas da quarta dose: {qtd_4quin_maior}')\n",
    "print(f'Quantidade de vacinas dos outros locais: {qtd_4_6_local}')"
   ]
  },
  {
   "cell_type": "markdown",
   "id": "f914d40f",
   "metadata": {},
   "source": [
    "Com isso temos uma análise dos lugares que mais vacinaram em cada dose."
   ]
  },
  {
   "cell_type": "markdown",
   "id": "1ab0ed6a",
   "metadata": {},
   "source": [
    "Portanto, apesar da diminuição expressiva de vacinação realizada entre a 1ª; 2ª; 3ª e 4ª dose, o número de doses aplicadas em vários pontos diferentes se mantém superior. Concluindo-se que a propoção da distribuição de doses foi bastante distruibuido entre varios pontos de distribuiçao. Vale ressaltar, que na 4ª dose as porcentagens estão mais parecidas o que acontece por conta da menor quantidade de vacinas aplicadas e uma menor variedade de lugares."
   ]
  }
 ],
 "metadata": {
  "kernelspec": {
   "display_name": "Python 3 (ipykernel)",
   "language": "python",
   "name": "python3"
  },
  "language_info": {
   "codemirror_mode": {
    "name": "ipython",
    "version": 3
   },
   "file_extension": ".py",
   "mimetype": "text/x-python",
   "name": "python",
   "nbconvert_exporter": "python",
   "pygments_lexer": "ipython3",
   "version": "3.10.6"
  }
 },
 "nbformat": 4,
 "nbformat_minor": 5
}
