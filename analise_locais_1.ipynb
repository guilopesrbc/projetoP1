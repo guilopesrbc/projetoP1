{
 "cells": [
  {
   "cell_type": "markdown",
   "id": "290d96d4",
   "metadata": {},
   "source": [
    "# Análise dos Microdados da Vacina do Covid-19"
   ]
  },
  {
   "cell_type": "code",
   "execution_count": 50,
   "id": "94e80af8",
   "metadata": {},
   "outputs": [
    {
     "data": {
      "text/html": [
       "<div>\n",
       "<style scoped>\n",
       "    .dataframe tbody tr th:only-of-type {\n",
       "        vertical-align: middle;\n",
       "    }\n",
       "\n",
       "    .dataframe tbody tr th {\n",
       "        vertical-align: top;\n",
       "    }\n",
       "\n",
       "    .dataframe thead th {\n",
       "        text-align: right;\n",
       "    }\n",
       "</style>\n",
       "<table border=\"1\" class=\"dataframe\">\n",
       "  <thead>\n",
       "    <tr style=\"text-align: right;\">\n",
       "      <th></th>\n",
       "      <th>cpf</th>\n",
       "      <th>nome</th>\n",
       "      <th>sexo</th>\n",
       "      <th>grupo</th>\n",
       "      <th>vacina</th>\n",
       "      <th>lote</th>\n",
       "      <th>dose</th>\n",
       "      <th>data_vacinacao</th>\n",
       "      <th>local_vacinacao</th>\n",
       "    </tr>\n",
       "  </thead>\n",
       "  <tbody>\n",
       "    <tr>\n",
       "      <th>0</th>\n",
       "      <td>***.574.544-**</td>\n",
       "      <td>AABAN VASCONCELOS ZYZZYAG</td>\n",
       "      <td>MASCULINO</td>\n",
       "      <td>TRABALHADORES INDUSTRIAIS E BANCÁRIOS</td>\n",
       "      <td>2 - CHADOX1NCOV-19 - OXFORD/ASTRAZENECA (FIOCRUZ)</td>\n",
       "      <td>219VCD270W</td>\n",
       "      <td>2.0</td>\n",
       "      <td>2021-10-19</td>\n",
       "      <td>DRIVE THRU PARQUE DE EXPOSIÇÃO</td>\n",
       "    </tr>\n",
       "    <tr>\n",
       "      <th>1</th>\n",
       "      <td>***.574.544-**</td>\n",
       "      <td>AABAN VASCONCELOS ZYZZYAG</td>\n",
       "      <td>MASCULINO</td>\n",
       "      <td>TRABALHADORES INDUSTRIAIS E BANCÁRIOS</td>\n",
       "      <td>2 - CHADOX1NCOV-19 - OXFORD/ASTRAZENECA (FIOCRUZ)</td>\n",
       "      <td>216VCD206Z</td>\n",
       "      <td>1.0</td>\n",
       "      <td>2021-07-26</td>\n",
       "      <td>DRIVE THRU PARQUE DE EXPOSIÇÃO</td>\n",
       "    </tr>\n",
       "    <tr>\n",
       "      <th>2</th>\n",
       "      <td>***.886.964-**</td>\n",
       "      <td>AAMANDA MARIA FREIRE DA SILVA</td>\n",
       "      <td>FEMININO</td>\n",
       "      <td>TRABALHADORES DA SAÚDE</td>\n",
       "      <td>1 - CORONAVAC - SINOVAC (BUTANTAN)</td>\n",
       "      <td>210043</td>\n",
       "      <td>2.0</td>\n",
       "      <td>2021-03-04</td>\n",
       "      <td>CENTRO DE VACINAÇÃO PARQUE DE EXPOSIÇÃO</td>\n",
       "    </tr>\n",
       "    <tr>\n",
       "      <th>3</th>\n",
       "      <td>***.886.964-**</td>\n",
       "      <td>AAMANDA MARIA FREIRE DA SILVA</td>\n",
       "      <td>FEMININO</td>\n",
       "      <td>TRABALHADORES DA SAÚDE</td>\n",
       "      <td>1 - CORONAVAC - SINOVAC (BUTANTAN)</td>\n",
       "      <td>210016</td>\n",
       "      <td>1.0</td>\n",
       "      <td>2021-02-11</td>\n",
       "      <td>CENTRO DE VACINAÇÃO COMPAZ MIGUEL ARRAES</td>\n",
       "    </tr>\n",
       "    <tr>\n",
       "      <th>4</th>\n",
       "      <td>***.886.964-**</td>\n",
       "      <td>AAMANDA MARIA FREIRE DA SILVA</td>\n",
       "      <td>FEMININO</td>\n",
       "      <td>TRABALHADORES DA SAÚDE</td>\n",
       "      <td>3 - COMIRNATY (PFIZER)</td>\n",
       "      <td>32010BD</td>\n",
       "      <td>3.0</td>\n",
       "      <td>2021-10-07</td>\n",
       "      <td>CENTRO DE VACINAÇÃO UNINASSAU</td>\n",
       "    </tr>\n",
       "    <tr>\n",
       "      <th>...</th>\n",
       "      <td>...</td>\n",
       "      <td>...</td>\n",
       "      <td>...</td>\n",
       "      <td>...</td>\n",
       "      <td>...</td>\n",
       "      <td>...</td>\n",
       "      <td>...</td>\n",
       "      <td>...</td>\n",
       "      <td>...</td>\n",
       "    </tr>\n",
       "    <tr>\n",
       "      <th>3407293</th>\n",
       "      <td>***.619.454-**</td>\n",
       "      <td>NECIRA FERREIRA DE SANTANA</td>\n",
       "      <td>FEMININO</td>\n",
       "      <td>IDOSOS</td>\n",
       "      <td>3 - COMIRNATY (PFIZER)</td>\n",
       "      <td>FF8848</td>\n",
       "      <td>3.0</td>\n",
       "      <td>2021-09-29</td>\n",
       "      <td>DRIVE THRU - BIG BOMPREÇO - BOA VIAGEM</td>\n",
       "    </tr>\n",
       "    <tr>\n",
       "      <th>3407294</th>\n",
       "      <td>***.705.064-**</td>\n",
       "      <td>SEVERINO MANOEL DE SANTANA</td>\n",
       "      <td>MASCULINO</td>\n",
       "      <td>IDOSOS</td>\n",
       "      <td>1 - CORONAVAC - SINOVAC (BUTANTAN)</td>\n",
       "      <td>210052A</td>\n",
       "      <td>2.0</td>\n",
       "      <td>2021-03-11</td>\n",
       "      <td>DRIVE THRU GERALDÃO</td>\n",
       "    </tr>\n",
       "    <tr>\n",
       "      <th>3407295</th>\n",
       "      <td>***.705.064-**</td>\n",
       "      <td>SEVERINO MANOEL DE SANTANA</td>\n",
       "      <td>MASCULINO</td>\n",
       "      <td>IDOSOS</td>\n",
       "      <td>3 - COMIRNATY (PFIZER)</td>\n",
       "      <td>FF8848</td>\n",
       "      <td>3.0</td>\n",
       "      <td>2021-09-29</td>\n",
       "      <td>DRIVE THRU - BIG BOMPREÇO - BOA VIAGEM</td>\n",
       "    </tr>\n",
       "    <tr>\n",
       "      <th>3407296</th>\n",
       "      <td>***.705.064-**</td>\n",
       "      <td>SEVERINO MANOEL DE SANTANA</td>\n",
       "      <td>MASCULINO</td>\n",
       "      <td>IDOSOS</td>\n",
       "      <td>1 - CORONAVAC - SINOVAC (BUTANTAN)</td>\n",
       "      <td>210016</td>\n",
       "      <td>1.0</td>\n",
       "      <td>2021-02-17</td>\n",
       "      <td>DRIVE THRU GERALDÃO</td>\n",
       "    </tr>\n",
       "    <tr>\n",
       "      <th>3407297</th>\n",
       "      <td>NaN</td>\n",
       "      <td>NaN</td>\n",
       "      <td>NaN</td>\n",
       "      <td>NaN</td>\n",
       "      <td>NaN</td>\n",
       "      <td>NaN</td>\n",
       "      <td>NaN</td>\n",
       "      <td>NaN</td>\n",
       "      <td>NaN</td>\n",
       "    </tr>\n",
       "  </tbody>\n",
       "</table>\n",
       "<p>3407298 rows × 9 columns</p>\n",
       "</div>"
      ],
      "text/plain": [
       "                    cpf                           nome       sexo  \\\n",
       "0        ***.574.544-**      AABAN VASCONCELOS ZYZZYAG  MASCULINO   \n",
       "1        ***.574.544-**      AABAN VASCONCELOS ZYZZYAG  MASCULINO   \n",
       "2        ***.886.964-**  AAMANDA MARIA FREIRE DA SILVA   FEMININO   \n",
       "3        ***.886.964-**  AAMANDA MARIA FREIRE DA SILVA   FEMININO   \n",
       "4        ***.886.964-**  AAMANDA MARIA FREIRE DA SILVA   FEMININO   \n",
       "...                 ...                            ...        ...   \n",
       "3407293  ***.619.454-**     NECIRA FERREIRA DE SANTANA   FEMININO   \n",
       "3407294  ***.705.064-**     SEVERINO MANOEL DE SANTANA  MASCULINO   \n",
       "3407295  ***.705.064-**     SEVERINO MANOEL DE SANTANA  MASCULINO   \n",
       "3407296  ***.705.064-**     SEVERINO MANOEL DE SANTANA  MASCULINO   \n",
       "3407297             NaN                            NaN        NaN   \n",
       "\n",
       "                                         grupo  \\\n",
       "0        TRABALHADORES INDUSTRIAIS E BANCÁRIOS   \n",
       "1        TRABALHADORES INDUSTRIAIS E BANCÁRIOS   \n",
       "2                       TRABALHADORES DA SAÚDE   \n",
       "3                       TRABALHADORES DA SAÚDE   \n",
       "4                       TRABALHADORES DA SAÚDE   \n",
       "...                                        ...   \n",
       "3407293                                 IDOSOS   \n",
       "3407294                                 IDOSOS   \n",
       "3407295                                 IDOSOS   \n",
       "3407296                                 IDOSOS   \n",
       "3407297                                    NaN   \n",
       "\n",
       "                                                    vacina         lote  dose  \\\n",
       "0        2 - CHADOX1NCOV-19 - OXFORD/ASTRAZENECA (FIOCRUZ)  219VCD270W    2.0   \n",
       "1        2 - CHADOX1NCOV-19 - OXFORD/ASTRAZENECA (FIOCRUZ)   216VCD206Z   1.0   \n",
       "2                       1 - CORONAVAC - SINOVAC (BUTANTAN)       210043   2.0   \n",
       "3                       1 - CORONAVAC - SINOVAC (BUTANTAN)       210016   1.0   \n",
       "4                                   3 - COMIRNATY (PFIZER)      32010BD   3.0   \n",
       "...                                                    ...          ...   ...   \n",
       "3407293                             3 - COMIRNATY (PFIZER)       FF8848   3.0   \n",
       "3407294                 1 - CORONAVAC - SINOVAC (BUTANTAN)      210052A   2.0   \n",
       "3407295                             3 - COMIRNATY (PFIZER)       FF8848   3.0   \n",
       "3407296                 1 - CORONAVAC - SINOVAC (BUTANTAN)       210016   1.0   \n",
       "3407297                                                NaN          NaN   NaN   \n",
       "\n",
       "        data_vacinacao                           local_vacinacao  \n",
       "0           2021-10-19            DRIVE THRU PARQUE DE EXPOSIÇÃO  \n",
       "1           2021-07-26            DRIVE THRU PARQUE DE EXPOSIÇÃO  \n",
       "2           2021-03-04   CENTRO DE VACINAÇÃO PARQUE DE EXPOSIÇÃO  \n",
       "3           2021-02-11  CENTRO DE VACINAÇÃO COMPAZ MIGUEL ARRAES  \n",
       "4           2021-10-07             CENTRO DE VACINAÇÃO UNINASSAU  \n",
       "...                ...                                       ...  \n",
       "3407293     2021-09-29    DRIVE THRU - BIG BOMPREÇO - BOA VIAGEM  \n",
       "3407294     2021-03-11                       DRIVE THRU GERALDÃO  \n",
       "3407295     2021-09-29    DRIVE THRU - BIG BOMPREÇO - BOA VIAGEM  \n",
       "3407296     2021-02-17                       DRIVE THRU GERALDÃO  \n",
       "3407297            NaN                                       NaN  \n",
       "\n",
       "[3407298 rows x 9 columns]"
      ]
     },
     "execution_count": 50,
     "metadata": {},
     "output_type": "execute_result"
    }
   ],
   "source": [
    "import pandas as pd\n",
    "import matplotlib.pyplot as plt\n",
    "\n",
    "#para pegar a os microdados das vacinas aplicadas \n",
    "microdadosVacina = pd.read_csv(\"vacinados.csv\", sep=\";\", encoding='utf-8')\n",
    "microdadosVacina"
   ]
  },
  {
   "cell_type": "code",
   "execution_count": 51,
   "id": "e4547368",
   "metadata": {},
   "outputs": [
    {
     "data": {
      "text/html": [
       "<div>\n",
       "<style scoped>\n",
       "    .dataframe tbody tr th:only-of-type {\n",
       "        vertical-align: middle;\n",
       "    }\n",
       "\n",
       "    .dataframe tbody tr th {\n",
       "        vertical-align: top;\n",
       "    }\n",
       "\n",
       "    .dataframe thead th {\n",
       "        text-align: right;\n",
       "    }\n",
       "</style>\n",
       "<table border=\"1\" class=\"dataframe\">\n",
       "  <thead>\n",
       "    <tr style=\"text-align: right;\">\n",
       "      <th></th>\n",
       "      <th>dose</th>\n",
       "      <th>local_vacinacao</th>\n",
       "    </tr>\n",
       "  </thead>\n",
       "  <tbody>\n",
       "    <tr>\n",
       "      <th>0</th>\n",
       "      <td>2.0</td>\n",
       "      <td>DRIVE THRU PARQUE DE EXPOSIÇÃO</td>\n",
       "    </tr>\n",
       "    <tr>\n",
       "      <th>1</th>\n",
       "      <td>1.0</td>\n",
       "      <td>DRIVE THRU PARQUE DE EXPOSIÇÃO</td>\n",
       "    </tr>\n",
       "    <tr>\n",
       "      <th>2</th>\n",
       "      <td>2.0</td>\n",
       "      <td>CENTRO DE VACINAÇÃO PARQUE DE EXPOSIÇÃO</td>\n",
       "    </tr>\n",
       "    <tr>\n",
       "      <th>3</th>\n",
       "      <td>1.0</td>\n",
       "      <td>CENTRO DE VACINAÇÃO COMPAZ MIGUEL ARRAES</td>\n",
       "    </tr>\n",
       "    <tr>\n",
       "      <th>4</th>\n",
       "      <td>3.0</td>\n",
       "      <td>CENTRO DE VACINAÇÃO UNINASSAU</td>\n",
       "    </tr>\n",
       "    <tr>\n",
       "      <th>...</th>\n",
       "      <td>...</td>\n",
       "      <td>...</td>\n",
       "    </tr>\n",
       "    <tr>\n",
       "      <th>3407293</th>\n",
       "      <td>3.0</td>\n",
       "      <td>DRIVE THRU - BIG BOMPREÇO - BOA VIAGEM</td>\n",
       "    </tr>\n",
       "    <tr>\n",
       "      <th>3407294</th>\n",
       "      <td>2.0</td>\n",
       "      <td>DRIVE THRU GERALDÃO</td>\n",
       "    </tr>\n",
       "    <tr>\n",
       "      <th>3407295</th>\n",
       "      <td>3.0</td>\n",
       "      <td>DRIVE THRU - BIG BOMPREÇO - BOA VIAGEM</td>\n",
       "    </tr>\n",
       "    <tr>\n",
       "      <th>3407296</th>\n",
       "      <td>1.0</td>\n",
       "      <td>DRIVE THRU GERALDÃO</td>\n",
       "    </tr>\n",
       "    <tr>\n",
       "      <th>3407297</th>\n",
       "      <td>NaN</td>\n",
       "      <td>NaN</td>\n",
       "    </tr>\n",
       "  </tbody>\n",
       "</table>\n",
       "<p>3407298 rows × 2 columns</p>\n",
       "</div>"
      ],
      "text/plain": [
       "         dose                           local_vacinacao\n",
       "0         2.0            DRIVE THRU PARQUE DE EXPOSIÇÃO\n",
       "1         1.0            DRIVE THRU PARQUE DE EXPOSIÇÃO\n",
       "2         2.0   CENTRO DE VACINAÇÃO PARQUE DE EXPOSIÇÃO\n",
       "3         1.0  CENTRO DE VACINAÇÃO COMPAZ MIGUEL ARRAES\n",
       "4         3.0             CENTRO DE VACINAÇÃO UNINASSAU\n",
       "...       ...                                       ...\n",
       "3407293   3.0    DRIVE THRU - BIG BOMPREÇO - BOA VIAGEM\n",
       "3407294   2.0                       DRIVE THRU GERALDÃO\n",
       "3407295   3.0    DRIVE THRU - BIG BOMPREÇO - BOA VIAGEM\n",
       "3407296   1.0                       DRIVE THRU GERALDÃO\n",
       "3407297   NaN                                       NaN\n",
       "\n",
       "[3407298 rows x 2 columns]"
      ]
     },
     "execution_count": 51,
     "metadata": {},
     "output_type": "execute_result"
    }
   ],
   "source": [
    "microdadosVacina = microdadosVacina.drop(columns=['cpf','nome','grupo','vacina','lote','data_vacinacao','sexo',])\n",
    "microdadosVacina"
   ]
  },
  {
   "cell_type": "code",
   "execution_count": 52,
   "id": "f67b2aec",
   "metadata": {},
   "outputs": [],
   "source": [
    "#tirando os valores\n",
    "micro = microdadosVacina.dropna()"
   ]
  },
  {
   "cell_type": "code",
   "execution_count": 53,
   "id": "9f3a5bce",
   "metadata": {},
   "outputs": [],
   "source": [
    "#separando para trabalhar apenas com as colunas de local de vacinaçao e a dose aplicada\n",
    "colunasSelecionadas_LocaisVacinas = ['local_vacinacao']\n",
    "colunasSelecionadas_DosesVacinas = ['dose']\n",
    "microdadosVacina_Locais = microdadosVacina.filter(items = colunasSelecionadas_LocaisVacinas)\n",
    "microdadosVacina_Doses = microdadosVacina.filter(items = colunasSelecionadas_DosesVacinas)"
   ]
  },
  {
   "cell_type": "code",
   "execution_count": 54,
   "id": "3c0c859b",
   "metadata": {},
   "outputs": [
    {
     "data": {
      "text/plain": [
       "local_vacinacao                                   \n",
       "DRIVE THRU PARQUE DA MACAXEIRA                        225295\n",
       "CENTRO DE VACINAÇÃO  COMPAZ ARIANO SUASSUNA           220034\n",
       "DRIVE THRU GERALDÃO                                   215437\n",
       "DRIVE THRU - DNOCS                                    197749\n",
       "DRIVE THRU DA UFPE                                    177421\n",
       "                                                       ...  \n",
       "DRIVE THRU DNOCS                                           8\n",
       "CENTRO DE VACINAÇÃO COMPAZ ARIANO SUASSUNA                 7\n",
       "USF COQUE BERILO PERNAMBUCANO (UNIDADE MÓVEL)              3\n",
       "CENTRO DE REFERÊNCIA EAPV COVID-19 (UNIDADE MÓVEL)         2\n",
       "DRIVE THRU - UNICAP (UNIDADE MÓVEL)                        1\n",
       "Length: 141, dtype: int64"
      ]
     },
     "execution_count": 54,
     "metadata": {},
     "output_type": "execute_result"
    }
   ],
   "source": [
    "#fazendo a contagem para ver quantos locais de vacinaçao tem e quantas doses foram aplicadas em cada local\n",
    "microdadosVacina_Locais.value_counts()"
   ]
  },
  {
   "cell_type": "code",
   "execution_count": 55,
   "id": "d6fc44dc",
   "metadata": {},
   "outputs": [
    {
     "data": {
      "text/plain": [
       "dose\n",
       "1.0     1519688\n",
       "2.0     1312330\n",
       "3.0      574350\n",
       "4.0         929\n",
       "dtype: int64"
      ]
     },
     "execution_count": 55,
     "metadata": {},
     "output_type": "execute_result"
    }
   ],
   "source": [
    "#fazendo a contagem da distribuiçao de quantas vacinas foram aplicadas de cada dose\n",
    "microdadosVacina_Doses.value_counts()"
   ]
  },
  {
   "cell_type": "code",
   "execution_count": 56,
   "id": "158ba6c7",
   "metadata": {},
   "outputs": [
    {
     "data": {
      "text/plain": [
       "array([[<AxesSubplot: title={'center': 'dose'}>]], dtype=object)"
      ]
     },
     "execution_count": 56,
     "metadata": {},
     "output_type": "execute_result"
    },
    {
     "data": {
      "image/png": "[encoded data removed]",
      "text/plain": [
       "<Figure size 432x288 with 1 Axes>"
      ]
     },
     "metadata": {
      "needs_background": "light"
     },
     "output_type": "display_data"
    }
   ],
   "source": [
    "#grafico de histograma da quantidade de doses\n",
    "microdadosVacina_Doses.hist()"
   ]
  },
  {
   "cell_type": "code",
   "execution_count": 57,
   "id": "859c38fd",
   "metadata": {
    "scrolled": true
   },
   "outputs": [
    {
     "name": "stdout",
     "output_type": "stream",
     "text": [
      "[44.60098429928474, 38.515280587515555, 16.856470099319196, 0.027265013880504105]\n"
     ]
    }
   ],
   "source": [
    "#descobrindo a porcentagem de quantas pessoas tomaram cada dose\n",
    "distInDoses = microdadosVacina_Doses.value_counts()\n",
    "percentInDoses = [100*x/distInDoses.sum() for x in distInDoses]\n",
    "print(percentInDoses)"
   ]
  },
  {
   "cell_type": "code",
   "execution_count": 58,
   "id": "2ea927cc",
   "metadata": {
    "scrolled": false
   },
   "outputs": [],
   "source": [
    "#ta dando erro esse aq, nao consegui descobrir qual o erro\n",
    "#qntd_outros_total = (microdadosVacina['local_vacinacao'] != 'DRIVE THRU PARQUE DA MACAXEIRA')and(microdadosVacina['local_vacinacao'] != 'CENTRO DE VACINAÇÃO  COMPAZ ARIANO SUASSUNA')and(microdadosVacina['local_vacinacao'] != 'DRIVE THRU - DNOCS')and(microdadosVacina['local_vacinacao'] != 'DRIVE THRU GERALDÃO')and(microdadosVacina['local_vacinacao'] != 'DRIVE THRU DA UFPE')"
   ]
  },
  {
   "cell_type": "code",
   "execution_count": 59,
   "id": "0f0d4427",
   "metadata": {},
   "outputs": [
    {
     "data": {
      "image/png": "[encoded data removed]",
      "text/plain": [
       "<Figure size 432x288 with 1 Axes>"
      ]
     },
     "metadata": {},
     "output_type": "display_data"
    }
   ],
   "source": [
    "#a quantidade dos outro ta como comentario pq ta dando errado ali encima\n",
    "##qntd_maior_local = microdadosVacina['DRIVE THRU PARQUE DA MACAXEIRA'].count()[0]\n",
    "##qntd_seg_maior_local = microdadosVacina['CENTRO DE VACINAÇÃO  COMPAZ ARIANO SUASSUNA'].count()[0]\n",
    "##qntd_ter_maior_local = microdadosVacina['DRIVE THRU GERALDÃO'].count()[0]\n",
    "##qntd_quar_maior_local = microdadosVacina['DRIVE THRU - DNOCS'].count()[0]\n",
    "##qntd_quin_maior_local = microdadosVacina['DRIVE THRU DA UFPE'].count()[0]\n",
    "#qntd_outros = microdadosVacina[qntd_outros_total].count()[0]\n",
    "\n",
    "##valores = [qntd_maior_local, qntd_seg_maior_local, qntd_ter_maior_local, qntd_quar_maior_local, qntd_quin_maior_local]\n",
    "##rotulos = ['DRIVE THRU PARQUE DA MACAXEIRA','CENTRO DE VACINAÇÃO  COMPAZ ARIANO SUASSUNA', 'DRIVE THRU GERALDÃO', 'DRIVE THRU - DNOCS', 'DRIVE THRU DA UFPE']\n",
    "\n",
    "#aqui vai ficar faltando so a criaçao do grafico em si\n",
    "\n",
    "local1 = microdadosVacina.dropna().loc[microdadosVacina['local_vacinacao'] == 'DRIVE THRU PARQUE DA MACAXEIRA']\n",
    "qtd_1_local = local1.count()[0]\n",
    "\n",
    "local2 = microdadosVacina.dropna().loc[microdadosVacina['local_vacinacao'] == 'CENTRO DE VACINAÇÃO  COMPAZ ARIANO SUASSUNA']\n",
    "qtd_2_local = local2.count()[0]\n",
    "\n",
    "local3 = microdadosVacina.dropna().loc[microdadosVacina['local_vacinacao'] == 'DRIVE THRU GERALDÃO']\n",
    "qtd_3_local = local3.count()[0]\n",
    "\n",
    "local4 = microdadosVacina.dropna().loc[microdadosVacina['local_vacinacao'] == 'DRIVE THRU - DNOCS']\n",
    "qtd_4_local = local4.count()[0]\n",
    "\n",
    "local5 = microdadosVacina.dropna().loc[microdadosVacina['local_vacinacao'] == 'DRIVE THRU DA UFPE']\n",
    "qtd_5_local = local5.count()[0]\n",
    "#FALTA FAZER GRAFICO\n",
    "labels = ['Maior Local', 'Segundo Maior Local', 'Terceiro Maior Local', 'Quarto Maior Local', 'QuintoMaior Local']\n",
    "values = [qtd_1_local, qtd_2_local, qtd_3_local, qtd_4_local, qtd_5_local]\n",
    "\n",
    "fig1, ax1 = plt.subplots()\n",
    "\n",
    "ax1.pie(values, labels=labels, autopct='%1.1f%%', shadow=False, startangle=90)\n",
    "\n",
    "ax1.axis('equal')\n",
    "plt.show()"
   ]
  },
  {
   "cell_type": "code",
   "execution_count": null,
   "id": "381e2b27",
   "metadata": {},
   "outputs": [],
   "source": []
  },
  {
   "cell_type": "code",
   "execution_count": null,
   "id": "b32746f0",
   "metadata": {},
   "outputs": [],
   "source": []
  }
 ],
 "metadata": {
  "kernelspec": {
   "display_name": "Python 3 (ipykernel)",
   "language": "python",
   "name": "python3"
  },
  "language_info": {
   "codemirror_mode": {
    "name": "ipython",
    "version": 3
   },
   "file_extension": ".py",
   "mimetype": "text/x-python",
   "name": "python",
   "nbconvert_exporter": "python",
   "pygments_lexer": "ipython3",
   "version": "3.10.6"
  }
 },
 "nbformat": 4,
 "nbformat_minor": 5
}
